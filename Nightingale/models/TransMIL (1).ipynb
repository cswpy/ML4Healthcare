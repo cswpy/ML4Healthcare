{
 "cells": [
  {
   "cell_type": "code",
   "execution_count": 1,
   "id": "ff2a286e-c26a-44b0-a9f3-4b2429d9f5d2",
   "metadata": {},
   "outputs": [
    {
     "name": "stderr",
     "output_type": "stream",
     "text": [
      "2023-05-01 17:57:03.831103: I tensorflow/core/platform/cpu_feature_guard.cc:193] This TensorFlow binary is optimized with oneAPI Deep Neural Network Library (oneDNN) to use the following CPU instructions in performance-critical operations:  AVX2 AVX512F AVX512_VNNI FMA\n",
      "To enable them in other operations, rebuild TensorFlow with the appropriate compiler flags.\n",
      "2023-05-01 17:57:03.954259: I tensorflow/core/util/port.cc:104] oneDNN custom operations are on. You may see slightly different numerical results due to floating-point round-off errors from different computation orders. To turn them off, set the environment variable `TF_ENABLE_ONEDNN_OPTS=0`.\n",
      "2023-05-01 17:57:04.630777: W tensorflow/compiler/xla/stream_executor/platform/default/dso_loader.cc:64] Could not load dynamic library 'libnvinfer.so.7'; dlerror: libnvinfer.so.7: cannot open shared object file: No such file or directory; LD_LIBRARY_PATH: /usr/local/nvidia/lib:/usr/local/nvidia/lib64\n",
      "2023-05-01 17:57:04.630845: W tensorflow/compiler/xla/stream_executor/platform/default/dso_loader.cc:64] Could not load dynamic library 'libnvinfer_plugin.so.7'; dlerror: libnvinfer_plugin.so.7: cannot open shared object file: No such file or directory; LD_LIBRARY_PATH: /usr/local/nvidia/lib:/usr/local/nvidia/lib64\n",
      "2023-05-01 17:57:04.630854: W tensorflow/compiler/tf2tensorrt/utils/py_utils.cc:38] TF-TRT Warning: Cannot dlopen some TensorRT libraries. If you would like to use Nvidia GPU with TensorRT, please make sure the missing libraries mentioned above are installed properly.\n"
     ]
    },
    {
     "name": "stdout",
     "output_type": "stream",
     "text": [
      "_CudaDeviceProperties(name='Tesla T4', major=7, minor=5, total_memory=15109MB, multi_processor_count=40)\n"
     ]
    }
   ],
   "source": [
    "#importing libraries and initialzing GPU\n",
    "import os\n",
    "from pathlib import Path\n",
    "\n",
    "import numpy as np\n",
    "import pandas as pd\n",
    "\n",
    "from matplotlib import pyplot as plt\n",
    "from PIL import Image\n",
    "\n",
    "import torch\n",
    "from torch import nn\n",
    "from torch.nn import functional as F\n",
    "from torch.utils.data import DataLoader, Dataset\n",
    "from torchmetrics import Accuracy\n",
    "from torchvision import transforms\n",
    "from torchvision.models import resnet18\n",
    "from torchvision.models import resnet152\n",
    "import pytorch_lightning as pl\n",
    "import sys\n",
    "from tqdm import tqdm\n",
    "torch.cuda.init()\n",
    "assert torch.cuda.is_initialized()\n",
    "print(torch.cuda.get_device_properties(0))\n",
    "\n"
   ]
  },
  {
   "cell_type": "code",
   "execution_count": 2,
   "id": "2dfc38a8-ef79-465e-aef6-f195e9a8bb00",
   "metadata": {},
   "outputs": [
    {
     "name": "stdout",
     "output_type": "stream",
     "text": [
      "Looking in indexes: https://devpi.svc.ngsci.local/root/pypi/+simple/\n",
      "Requirement already satisfied: slideflow[tf] in /opt/venv/default/lib/python3.8/site-packages (2.0.3.post1)\n",
      "Requirement already satisfied: cucim in /opt/venv/default/lib/python3.8/site-packages (23.2.0)\n",
      "Requirement already satisfied: cupy-cuda11x in /opt/venv/default/lib/python3.8/site-packages (12.0.0)\n",
      "Requirement already satisfied: numpy in /opt/venv/default/lib/python3.8/site-packages (from cucim) (1.23.5)\n",
      "Requirement already satisfied: click in /opt/venv/default/lib/python3.8/site-packages (from cucim) (8.1.3)\n",
      "Requirement already satisfied: fastrlock>=0.5 in /opt/venv/default/lib/python3.8/site-packages (from cupy-cuda11x) (0.8.1)\n",
      "Requirement already satisfied: tqdm in /opt/venv/default/lib/python3.8/site-packages (from slideflow[tf]) (4.64.1)\n",
      "Requirement already satisfied: lifelines in /opt/venv/default/lib/python3.8/site-packages (from slideflow[tf]) (0.27.6)\n",
      "Requirement already satisfied: gast>=0.3.3 in /opt/venv/default/lib/python3.8/site-packages (from slideflow[tf]) (0.4.0)\n",
      "Requirement already satisfied: matplotlib>=3.2 in /opt/venv/default/lib/python3.8/site-packages (from slideflow[tf]) (3.6.2)\n",
      "Requirement already satisfied: pyperclip in /opt/venv/default/lib/python3.8/site-packages (from slideflow[tf]) (1.8.2)\n",
      "Requirement already satisfied: parameterized in /opt/venv/default/lib/python3.8/site-packages (from slideflow[tf]) (0.9.0)\n",
      "Requirement already satisfied: requests in /opt/venv/default/lib/python3.8/site-packages (from slideflow[tf]) (2.28.1)\n",
      "Requirement already satisfied: h5py in /opt/venv/default/lib/python3.8/site-packages (from slideflow[tf]) (3.7.0)\n",
      "Requirement already satisfied: protobuf<=3.20.2 in /opt/venv/default/lib/python3.8/site-packages (from slideflow[tf]) (3.19.6)\n",
      "Requirement already satisfied: seaborn<0.12 in /opt/venv/default/lib/python3.8/site-packages (from slideflow[tf]) (0.11.2)\n",
      "Requirement already satisfied: pyopengl in /opt/venv/default/lib/python3.8/site-packages (from slideflow[tf]) (3.1.6)\n",
      "Requirement already satisfied: imageio in /opt/venv/default/lib/python3.8/site-packages (from slideflow[tf]) (2.23.0)\n",
      "Requirement already satisfied: glfw in /opt/venv/default/lib/python3.8/site-packages (from slideflow[tf]) (2.5.9)\n",
      "Requirement already satisfied: smac==1.4.0 in /opt/venv/default/lib/python3.8/site-packages (from slideflow[tf]) (1.4.0)\n",
      "Requirement already satisfied: scikit-image in /opt/venv/default/lib/python3.8/site-packages (from slideflow[tf]) (0.19.3)\n",
      "Requirement already satisfied: rich in /opt/venv/default/lib/python3.8/site-packages (from slideflow[tf]) (13.3.5)\n",
      "Requirement already satisfied: zarr in /opt/venv/default/lib/python3.8/site-packages (from slideflow[tf]) (2.14.2)\n",
      "Requirement already satisfied: ConfigSpace in /opt/venv/default/lib/python3.8/site-packages (from slideflow[tf]) (0.6.1)\n",
      "Requirement already satisfied: scipy in /opt/venv/default/lib/python3.8/site-packages (from slideflow[tf]) (1.9.3)\n",
      "Requirement already satisfied: crc32c in /opt/venv/default/lib/python3.8/site-packages (from slideflow[tf]) (2.3.post0)\n",
      "Requirement already satisfied: fpdf2 in /opt/venv/default/lib/python3.8/site-packages (from slideflow[tf]) (2.7.4)\n",
      "Requirement already satisfied: pyvips in /opt/venv/default/lib/python3.8/site-packages (from slideflow[tf]) (2.2.1)\n",
      "Requirement already satisfied: opencv-python-headless in /opt/venv/default/lib/python3.8/site-packages (from slideflow[tf]) (4.7.0.72)\n",
      "Requirement already satisfied: tabulate in /opt/venv/default/lib/python3.8/site-packages (from slideflow[tf]) (0.9.0)\n",
      "Requirement already satisfied: pandas<2 in /opt/venv/default/lib/python3.8/site-packages (from slideflow[tf]) (1.5.2)\n",
      "Requirement already satisfied: ninja in /opt/venv/default/lib/python3.8/site-packages (from slideflow[tf]) (1.11.1)\n",
      "Requirement already satisfied: saliency in /opt/venv/default/lib/python3.8/site-packages (from slideflow[tf]) (0.2.0)\n",
      "Requirement already satisfied: imgui in /opt/venv/default/lib/python3.8/site-packages (from slideflow[tf]) (2.0.0)\n",
      "Requirement already satisfied: tensorboard in /opt/venv/default/lib/python3.8/site-packages (from slideflow[tf]) (2.11.0)\n",
      "Requirement already satisfied: umap-learn in /opt/venv/default/lib/python3.8/site-packages (from slideflow[tf]) (0.5.3)\n",
      "Requirement already satisfied: pyarrow in /opt/venv/default/lib/python3.8/site-packages (from slideflow[tf]) (10.0.1)\n",
      "Requirement already satisfied: scikit-learn in /opt/venv/default/lib/python3.8/site-packages (from slideflow[tf]) (1.2.0)\n",
      "Requirement already satisfied: pillow>=6.0.0 in /opt/venv/default/lib/python3.8/site-packages (from slideflow[tf]) (9.3.0)\n",
      "Requirement already satisfied: rasterio in /opt/venv/default/lib/python3.8/site-packages (from slideflow[tf]) (1.3.6)\n",
      "Requirement already satisfied: shapely in /opt/venv/default/lib/python3.8/site-packages (from slideflow[tf]) (2.0.1)\n",
      "Requirement already satisfied: tensorflow<2.12,>=2.7 in /opt/venv/default/lib/python3.8/site-packages (from slideflow[tf]) (2.11.0)\n",
      "Requirement already satisfied: tensorflow-probability<0.20 in /opt/venv/default/lib/python3.8/site-packages (from slideflow[tf]) (0.19.0)\n",
      "Requirement already satisfied: tensorflow-datasets in /opt/venv/default/lib/python3.8/site-packages (from slideflow[tf]) (4.9.0)\n",
      "Requirement already satisfied: pyrfr>=0.8.3 in /opt/venv/default/lib/python3.8/site-packages (from smac==1.4.0->slideflow[tf]) (0.9.0)\n",
      "Requirement already satisfied: regex in /opt/venv/default/lib/python3.8/site-packages (from smac==1.4.0->slideflow[tf]) (2022.10.31)\n",
      "Requirement already satisfied: psutil in /opt/venv/default/lib/python3.8/site-packages (from smac==1.4.0->slideflow[tf]) (5.9.4)\n",
      "Requirement already satisfied: emcee>=3.0.0 in /opt/venv/default/lib/python3.8/site-packages (from smac==1.4.0->slideflow[tf]) (3.1.4)\n",
      "Requirement already satisfied: distributed in /opt/venv/default/lib/python3.8/site-packages (from smac==1.4.0->slideflow[tf]) (2022.12.1)\n",
      "Requirement already satisfied: pynisher<1.0.0 in /opt/venv/default/lib/python3.8/site-packages (from smac==1.4.0->slideflow[tf]) (0.6.4)\n",
      "Requirement already satisfied: joblib in /opt/venv/default/lib/python3.8/site-packages (from smac==1.4.0->slideflow[tf]) (1.2.0)\n",
      "Requirement already satisfied: dask in /opt/venv/default/lib/python3.8/site-packages (from smac==1.4.0->slideflow[tf]) (2022.12.1)\n",
      "Requirement already satisfied: pyparsing in /opt/venv/default/lib/python3.8/site-packages (from ConfigSpace->slideflow[tf]) (3.0.9)\n",
      "Requirement already satisfied: more-itertools in /opt/venv/default/lib/python3.8/site-packages (from ConfigSpace->slideflow[tf]) (9.1.0)\n",
      "Requirement already satisfied: typing-extensions in /opt/venv/default/lib/python3.8/site-packages (from ConfigSpace->slideflow[tf]) (4.4.0)\n",
      "Requirement already satisfied: fonttools>=4.22.0 in /opt/venv/default/lib/python3.8/site-packages (from matplotlib>=3.2->slideflow[tf]) (4.38.0)\n",
      "Requirement already satisfied: kiwisolver>=1.0.1 in /opt/venv/default/lib/python3.8/site-packages (from matplotlib>=3.2->slideflow[tf]) (1.4.4)\n",
      "Requirement already satisfied: packaging>=20.0 in /opt/venv/default/lib/python3.8/site-packages (from matplotlib>=3.2->slideflow[tf]) (22.0)\n",
      "Requirement already satisfied: python-dateutil>=2.7 in /opt/venv/default/lib/python3.8/site-packages (from matplotlib>=3.2->slideflow[tf]) (2.8.2)\n",
      "Requirement already satisfied: cycler>=0.10 in /opt/venv/default/lib/python3.8/site-packages (from matplotlib>=3.2->slideflow[tf]) (0.11.0)\n",
      "Requirement already satisfied: contourpy>=1.0.1 in /opt/venv/default/lib/python3.8/site-packages (from matplotlib>=3.2->slideflow[tf]) (1.0.6)\n",
      "Requirement already satisfied: pytz>=2020.1 in /opt/venv/default/lib/python3.8/site-packages (from pandas<2->slideflow[tf]) (2022.7)\n",
      "Requirement already satisfied: setuptools in /opt/venv/default/lib/python3.8/site-packages (from pynisher<1.0.0->smac==1.4.0->slideflow[tf]) (56.0.0)\n",
      "Requirement already satisfied: six>=1.5 in /opt/venv/default/lib/python3.8/site-packages (from python-dateutil>=2.7->matplotlib>=3.2->slideflow[tf]) (1.16.0)\n",
      "Requirement already satisfied: threadpoolctl>=2.0.0 in /opt/venv/default/lib/python3.8/site-packages (from scikit-learn->slideflow[tf]) (3.1.0)\n",
      "Requirement already satisfied: tensorflow-io-gcs-filesystem>=0.23.1 in /opt/venv/default/lib/python3.8/site-packages (from tensorflow<2.12,>=2.7->slideflow[tf]) (0.29.0)\n",
      "Requirement already satisfied: termcolor>=1.1.0 in /opt/venv/default/lib/python3.8/site-packages (from tensorflow<2.12,>=2.7->slideflow[tf]) (2.1.1)\n",
      "Requirement already satisfied: google-pasta>=0.1.1 in /opt/venv/default/lib/python3.8/site-packages (from tensorflow<2.12,>=2.7->slideflow[tf]) (0.2.0)\n",
      "Requirement already satisfied: libclang>=13.0.0 in /opt/venv/default/lib/python3.8/site-packages (from tensorflow<2.12,>=2.7->slideflow[tf]) (14.0.6)\n",
      "Requirement already satisfied: keras<2.12,>=2.11.0 in /opt/venv/default/lib/python3.8/site-packages (from tensorflow<2.12,>=2.7->slideflow[tf]) (2.11.0)\n",
      "Requirement already satisfied: grpcio<2.0,>=1.24.3 in /opt/venv/default/lib/python3.8/site-packages (from tensorflow<2.12,>=2.7->slideflow[tf]) (1.51.1)\n",
      "Requirement already satisfied: tensorflow-estimator<2.12,>=2.11.0 in /opt/venv/default/lib/python3.8/site-packages (from tensorflow<2.12,>=2.7->slideflow[tf]) (2.11.0)\n",
      "Requirement already satisfied: opt-einsum>=2.3.2 in /opt/venv/default/lib/python3.8/site-packages (from tensorflow<2.12,>=2.7->slideflow[tf]) (3.3.0)\n",
      "Requirement already satisfied: absl-py>=1.0.0 in /opt/venv/default/lib/python3.8/site-packages (from tensorflow<2.12,>=2.7->slideflow[tf]) (1.3.0)\n",
      "Requirement already satisfied: flatbuffers>=2.0 in /opt/venv/default/lib/python3.8/site-packages (from tensorflow<2.12,>=2.7->slideflow[tf]) (22.12.6)\n",
      "Requirement already satisfied: wrapt>=1.11.0 in /opt/venv/default/lib/python3.8/site-packages (from tensorflow<2.12,>=2.7->slideflow[tf]) (1.14.1)\n",
      "Requirement already satisfied: astunparse>=1.6.0 in /opt/venv/default/lib/python3.8/site-packages (from tensorflow<2.12,>=2.7->slideflow[tf]) (1.6.3)\n",
      "Requirement already satisfied: wheel<1.0,>=0.23.0 in /opt/venv/default/lib/python3.8/site-packages (from astunparse>=1.6.0->tensorflow<2.12,>=2.7->slideflow[tf]) (0.38.4)\n",
      "Requirement already satisfied: werkzeug>=1.0.1 in /opt/venv/default/lib/python3.8/site-packages (from tensorboard->slideflow[tf]) (2.2.2)\n",
      "Requirement already satisfied: google-auth-oauthlib<0.5,>=0.4.1 in /opt/venv/default/lib/python3.8/site-packages (from tensorboard->slideflow[tf]) (0.4.6)\n",
      "Requirement already satisfied: markdown>=2.6.8 in /opt/venv/default/lib/python3.8/site-packages (from tensorboard->slideflow[tf]) (3.4.1)\n",
      "Requirement already satisfied: tensorboard-data-server<0.7.0,>=0.6.0 in /opt/venv/default/lib/python3.8/site-packages (from tensorboard->slideflow[tf]) (0.6.1)\n",
      "Requirement already satisfied: google-auth<3,>=1.6.3 in /opt/venv/default/lib/python3.8/site-packages (from tensorboard->slideflow[tf]) (2.15.0)\n",
      "Requirement already satisfied: tensorboard-plugin-wit>=1.6.0 in /opt/venv/default/lib/python3.8/site-packages (from tensorboard->slideflow[tf]) (1.8.1)\n",
      "Requirement already satisfied: rsa<5,>=3.1.4 in /opt/venv/default/lib/python3.8/site-packages (from google-auth<3,>=1.6.3->tensorboard->slideflow[tf]) (4.9)\n",
      "Requirement already satisfied: cachetools<6.0,>=2.0.0 in /opt/venv/default/lib/python3.8/site-packages (from google-auth<3,>=1.6.3->tensorboard->slideflow[tf]) (5.2.0)\n",
      "Requirement already satisfied: pyasn1-modules>=0.2.1 in /opt/venv/default/lib/python3.8/site-packages (from google-auth<3,>=1.6.3->tensorboard->slideflow[tf]) (0.2.8)\n",
      "Requirement already satisfied: requests-oauthlib>=0.7.0 in /opt/venv/default/lib/python3.8/site-packages (from google-auth-oauthlib<0.5,>=0.4.1->tensorboard->slideflow[tf]) (1.3.1)\n",
      "Requirement already satisfied: importlib-metadata>=4.4 in /opt/venv/default/lib/python3.8/site-packages (from markdown>=2.6.8->tensorboard->slideflow[tf]) (5.2.0)\n",
      "Requirement already satisfied: zipp>=0.5 in /opt/venv/default/lib/python3.8/site-packages (from importlib-metadata>=4.4->markdown>=2.6.8->tensorboard->slideflow[tf]) (3.11.0)\n",
      "Requirement already satisfied: pyasn1<0.5.0,>=0.4.6 in /opt/venv/default/lib/python3.8/site-packages (from pyasn1-modules>=0.2.1->google-auth<3,>=1.6.3->tensorboard->slideflow[tf]) (0.4.8)\n",
      "Requirement already satisfied: urllib3<1.27,>=1.21.1 in /opt/venv/default/lib/python3.8/site-packages (from requests->slideflow[tf]) (1.26.13)\n",
      "Requirement already satisfied: idna<4,>=2.5 in /opt/venv/default/lib/python3.8/site-packages (from requests->slideflow[tf]) (3.4)\n",
      "Requirement already satisfied: charset-normalizer<3,>=2 in /opt/venv/default/lib/python3.8/site-packages (from requests->slideflow[tf]) (2.1.1)\n",
      "Requirement already satisfied: certifi>=2017.4.17 in /opt/venv/default/lib/python3.8/site-packages (from requests->slideflow[tf]) (2022.12.7)\n",
      "Requirement already satisfied: oauthlib>=3.0.0 in /opt/venv/default/lib/python3.8/site-packages (from requests-oauthlib>=0.7.0->google-auth-oauthlib<0.5,>=0.4.1->tensorboard->slideflow[tf]) (3.2.2)\n",
      "Requirement already satisfied: decorator in /opt/venv/default/lib/python3.8/site-packages (from tensorflow-probability<0.20->slideflow[tf]) (5.1.1)\n",
      "Requirement already satisfied: dm-tree in /opt/venv/default/lib/python3.8/site-packages (from tensorflow-probability<0.20->slideflow[tf]) (0.1.8)\n",
      "Requirement already satisfied: cloudpickle>=1.3 in /opt/venv/default/lib/python3.8/site-packages (from tensorflow-probability<0.20->slideflow[tf]) (2.2.0)\n",
      "Requirement already satisfied: MarkupSafe>=2.1.1 in /opt/venv/default/lib/python3.8/site-packages (from werkzeug>=1.0.1->tensorboard->slideflow[tf]) (2.1.1)\n",
      "Requirement already satisfied: toolz>=0.8.2 in /opt/venv/default/lib/python3.8/site-packages (from dask->smac==1.4.0->slideflow[tf]) (0.12.0)\n",
      "Requirement already satisfied: pyyaml>=5.3.1 in /opt/venv/default/lib/python3.8/site-packages (from dask->smac==1.4.0->slideflow[tf]) (6.0)\n",
      "Requirement already satisfied: partd>=0.3.10 in /opt/venv/default/lib/python3.8/site-packages (from dask->smac==1.4.0->slideflow[tf]) (1.3.0)\n",
      "Requirement already satisfied: fsspec>=0.6.0 in /opt/venv/default/lib/python3.8/site-packages (from dask->smac==1.4.0->slideflow[tf]) (2022.11.0)\n",
      "Requirement already satisfied: locket in /opt/venv/default/lib/python3.8/site-packages (from partd>=0.3.10->dask->smac==1.4.0->slideflow[tf]) (1.0.0)\n",
      "Requirement already satisfied: zict>=0.1.3 in /opt/venv/default/lib/python3.8/site-packages (from distributed->smac==1.4.0->slideflow[tf]) (2.2.0)\n",
      "Requirement already satisfied: msgpack>=0.6.0 in /opt/venv/default/lib/python3.8/site-packages (from distributed->smac==1.4.0->slideflow[tf]) (1.0.4)\n",
      "Requirement already satisfied: tblib>=1.6.0 in /opt/venv/default/lib/python3.8/site-packages (from distributed->smac==1.4.0->slideflow[tf]) (1.7.0)\n",
      "Requirement already satisfied: jinja2 in /opt/venv/default/lib/python3.8/site-packages (from distributed->smac==1.4.0->slideflow[tf]) (3.1.2)\n",
      "Requirement already satisfied: tornado>=6.0.3 in /opt/venv/default/lib/python3.8/site-packages (from distributed->smac==1.4.0->slideflow[tf]) (6.2)\n",
      "Requirement already satisfied: sortedcontainers!=2.0.0,!=2.0.1 in /opt/venv/default/lib/python3.8/site-packages (from distributed->smac==1.4.0->slideflow[tf]) (2.4.0)\n",
      "Requirement already satisfied: heapdict in /opt/venv/default/lib/python3.8/site-packages (from zict>=0.1.3->distributed->smac==1.4.0->slideflow[tf]) (1.0.1)\n",
      "Requirement already satisfied: defusedxml in /opt/venv/default/lib/python3.8/site-packages (from fpdf2->slideflow[tf]) (0.7.1)\n",
      "Requirement already satisfied: autograd>=1.5 in /opt/venv/default/lib/python3.8/site-packages (from lifelines->slideflow[tf]) (1.5)\n",
      "Requirement already satisfied: formulaic>=0.2.2 in /opt/venv/default/lib/python3.8/site-packages (from lifelines->slideflow[tf]) (0.6.0)\n",
      "Requirement already satisfied: autograd-gamma>=0.3 in /opt/venv/default/lib/python3.8/site-packages (from lifelines->slideflow[tf]) (0.5.0)\n",
      "Requirement already satisfied: future>=0.15.2 in /opt/venv/default/lib/python3.8/site-packages (from autograd>=1.5->lifelines->slideflow[tf]) (0.18.2)\n",
      "Requirement already satisfied: graphlib-backport>=1.0.0 in /opt/venv/default/lib/python3.8/site-packages (from formulaic>=0.2.2->lifelines->slideflow[tf]) (1.0.3)\n",
      "Requirement already satisfied: interface-meta>=1.2.0 in /opt/venv/default/lib/python3.8/site-packages (from formulaic>=0.2.2->lifelines->slideflow[tf]) (1.3.0)\n",
      "Requirement already satisfied: astor>=0.8 in /opt/venv/default/lib/python3.8/site-packages (from formulaic>=0.2.2->lifelines->slideflow[tf]) (0.8.1)\n",
      "Requirement already satisfied: cffi>=1.0.0 in /opt/venv/default/lib/python3.8/site-packages (from pyvips->slideflow[tf]) (1.15.1)\n",
      "Requirement already satisfied: pycparser in /opt/venv/default/lib/python3.8/site-packages (from cffi>=1.0.0->pyvips->slideflow[tf]) (2.21)\n",
      "Requirement already satisfied: affine in /opt/venv/default/lib/python3.8/site-packages (from rasterio->slideflow[tf]) (2.4.0)\n",
      "Requirement already satisfied: snuggs>=1.4.1 in /opt/venv/default/lib/python3.8/site-packages (from rasterio->slideflow[tf]) (1.4.7)\n",
      "Requirement already satisfied: click-plugins in /opt/venv/default/lib/python3.8/site-packages (from rasterio->slideflow[tf]) (1.1.1)\n",
      "Requirement already satisfied: cligj>=0.5 in /opt/venv/default/lib/python3.8/site-packages (from rasterio->slideflow[tf]) (0.7.2)\n",
      "Requirement already satisfied: attrs in /opt/venv/default/lib/python3.8/site-packages (from rasterio->slideflow[tf]) (22.2.0)\n",
      "Requirement already satisfied: markdown-it-py<3.0.0,>=2.2.0 in /opt/venv/default/lib/python3.8/site-packages (from rich->slideflow[tf]) (2.2.0)\n",
      "Requirement already satisfied: pygments<3.0.0,>=2.13.0 in /opt/venv/default/lib/python3.8/site-packages (from rich->slideflow[tf]) (2.13.0)\n",
      "Requirement already satisfied: mdurl~=0.1 in /opt/venv/default/lib/python3.8/site-packages (from markdown-it-py<3.0.0,>=2.2.0->rich->slideflow[tf]) (0.1.2)\n",
      "Requirement already satisfied: tifffile>=2019.7.26 in /opt/venv/default/lib/python3.8/site-packages (from scikit-image->slideflow[tf]) (2022.10.10)\n",
      "Requirement already satisfied: PyWavelets>=1.1.1 in /opt/venv/default/lib/python3.8/site-packages (from scikit-image->slideflow[tf]) (1.4.1)\n",
      "Requirement already satisfied: networkx>=2.2 in /opt/venv/default/lib/python3.8/site-packages (from scikit-image->slideflow[tf]) (2.8.8)\n",
      "Requirement already satisfied: toml in /opt/venv/default/lib/python3.8/site-packages (from tensorflow-datasets->slideflow[tf]) (0.10.2)\n",
      "Requirement already satisfied: importlib-resources in /opt/venv/default/lib/python3.8/site-packages (from tensorflow-datasets->slideflow[tf]) (5.10.1)\n",
      "Requirement already satisfied: tensorflow-metadata in /opt/venv/default/lib/python3.8/site-packages (from tensorflow-datasets->slideflow[tf]) (1.13.0)\n",
      "Requirement already satisfied: promise in /opt/venv/default/lib/python3.8/site-packages (from tensorflow-datasets->slideflow[tf]) (2.3)\n",
      "Requirement already satisfied: etils[enp,epath]>=0.9.0 in /opt/venv/default/lib/python3.8/site-packages (from tensorflow-datasets->slideflow[tf]) (1.2.0)\n",
      "Requirement already satisfied: array-record in /opt/venv/default/lib/python3.8/site-packages (from tensorflow-datasets->slideflow[tf]) (0.2.0)\n",
      "Requirement already satisfied: googleapis-common-protos<2,>=1.52.0 in /opt/venv/default/lib/python3.8/site-packages (from tensorflow-metadata->tensorflow-datasets->slideflow[tf]) (1.59.0)\n",
      "Requirement already satisfied: numba>=0.49 in /opt/venv/default/lib/python3.8/site-packages (from umap-learn->slideflow[tf]) (0.56.4)\n",
      "Requirement already satisfied: pynndescent>=0.5 in /opt/venv/default/lib/python3.8/site-packages (from umap-learn->slideflow[tf]) (0.5.8)\n",
      "Requirement already satisfied: llvmlite<0.40,>=0.39.0dev0 in /opt/venv/default/lib/python3.8/site-packages (from numba>=0.49->umap-learn->slideflow[tf]) (0.39.1)\n",
      "Requirement already satisfied: fasteners in /opt/venv/default/lib/python3.8/site-packages (from zarr->slideflow[tf]) (0.18)\n",
      "Requirement already satisfied: numcodecs>=0.10.0 in /opt/venv/default/lib/python3.8/site-packages (from zarr->slideflow[tf]) (0.11.0)\n",
      "Requirement already satisfied: asciitree in /opt/venv/default/lib/python3.8/site-packages (from zarr->slideflow[tf]) (0.3.3)\n",
      "Requirement already satisfied: entrypoints in /opt/venv/default/lib/python3.8/site-packages (from numcodecs>=0.10.0->zarr->slideflow[tf]) (0.4)\n",
      "\u001b[33mWARNING: You are using pip version 21.1.1; however, version 23.1.2 is available.\n",
      "You should consider upgrading via the '/opt/venv/default/bin/python -m pip install --upgrade pip' command.\u001b[0m\n"
     ]
    }
   ],
   "source": [
    "!{sys.executable} -m pip install slideflow[tf] cucim cupy-cuda11x"
   ]
  },
  {
   "cell_type": "code",
   "execution_count": 3,
   "id": "8b44e8df-8057-48d9-aebc-7968d4b2ab3a",
   "metadata": {},
   "outputs": [
    {
     "name": "stdout",
     "output_type": "stream",
     "text": [
      "/opt/venv/default/bin/python: can't open file 'export': [Errno 2] No such file or directory\n"
     ]
    }
   ],
   "source": [
    "!{sys.executable} export SF_SLIDE_BACKEND=libvips"
   ]
  },
  {
   "cell_type": "code",
   "execution_count": 4,
   "id": "7b606211-7706-4da4-880b-90fc467d3cff",
   "metadata": {},
   "outputs": [],
   "source": [
    "BRCA_ROOT = Path().home() / \"datasets\" / \"brca-psj-path\"\n",
    "CONTEST_DIR = BRCA_ROOT / \"contest-phase-2\"\n",
    "IMAGE_ROOT = CONTEST_DIR / \"png-downsampled-train\"\n",
    "TABLE_DIR = CONTEST_DIR / \"csv-train\"\n",
    "LOGGER_DIR = Path().home() / \"logs\""
   ]
  },
  {
   "cell_type": "code",
   "execution_count": 5,
   "id": "a52eb3f2-1d25-49c2-8f1c-5aedd3a159a3",
   "metadata": {},
   "outputs": [],
   "source": [
    "\n",
    "# goal: create slide_id : cancer stage mapping\n",
    "slide_biop_df = pd.read_csv(CONTEST_DIR / \"slide-manifest-train.csv\")\n",
    "outcomes_df = pd.read_csv(TABLE_DIR / \"outcomes.csv\")\n",
    "slide_stage_df = slide_biop_df.merge(outcomes_df, on=\"biopsy_id\")\n",
    "\n",
    "# map cancer stage to 0 - 4:\n",
    "# outcomes_df[\"stage\"].unique()\n",
    "#     ['IA', 'IIB', 'IIA', '0', nan, 'IIIC', 'IV', 'IIIA', 'IIIB', 'IB']\n",
    "def stage_to_int(stage):\n",
    "    if stage == \"0\":\n",
    "        return \"0\"\n",
    "    elif stage == \"IA\" or stage == \"IB\":\n",
    "        return \"1\"\n",
    "    elif stage == \"IIA\" or stage == \"IIB\":\n",
    "        return \"2\"\n",
    "    elif stage == \"IIIA\" or stage == \"IIIB\" or stage == \"IIIC\":\n",
    "        return \"3\"\n",
    "    elif stage == \"IV\":\n",
    "        return \"4\"\n",
    "    else:\n",
    "        return \"\"\n",
    "\n",
    "\n",
    "slide_stage_df[\"stage\"] = slide_stage_df[\"stage\"].apply(stage_to_int)\n",
    "slide_stage_df[\"dataset\"]=\"train\"\n",
    "change=slide_stage_df.sample(frac = 0.2).index\n",
    "slide_stage_df.loc[change,'dataset'] = \"eval\"\n",
    "\n",
    "# subset columns, drop nans, reset index\n",
    "labels_df = (\n",
    "    slide_stage_df[[\"slide_id\", \"biopsy_id\", \"stage\",\"dataset\"]]\n",
    "    .copy()\n",
    "    .dropna(how=\"any\")\n",
    "    .reset_index(drop=True)\n",
    ")\n",
    "\n",
    "labels_df[\"stage\"] = labels_df[\"stage\"]\n",
    "labels_df.rename(columns = {'slide_id':'patient'}, inplace = True)\n",
    "labels_df.head(5)\n",
    "labels_df.to_csv('annotations.csv',index=False)"
   ]
  },
  {
   "cell_type": "code",
   "execution_count": 6,
   "id": "19b13e30-c396-4371-802e-b7e9890c45cf",
   "metadata": {},
   "outputs": [
    {
     "name": "stderr",
     "output_type": "stream",
     "text": [
      "2023-05-01 17:57:13.923798: I tensorflow/compiler/xla/stream_executor/cuda/cuda_gpu_executor.cc:981] successful NUMA node read from SysFS had negative value (-1), but there must be at least one NUMA node, so returning NUMA node zero\n",
      "2023-05-01 17:57:13.924577: I tensorflow/compiler/xla/stream_executor/cuda/cuda_gpu_executor.cc:981] successful NUMA node read from SysFS had negative value (-1), but there must be at least one NUMA node, so returning NUMA node zero\n",
      "2023-05-01 17:57:13.925256: I tensorflow/compiler/xla/stream_executor/cuda/cuda_gpu_executor.cc:981] successful NUMA node read from SysFS had negative value (-1), but there must be at least one NUMA node, so returning NUMA node zero\n",
      "2023-05-01 17:57:13.925970: I tensorflow/compiler/xla/stream_executor/cuda/cuda_gpu_executor.cc:981] successful NUMA node read from SysFS had negative value (-1), but there must be at least one NUMA node, so returning NUMA node zero\n",
      "2023-05-01 17:57:13.927091: I tensorflow/compiler/xla/stream_executor/cuda/cuda_gpu_executor.cc:981] successful NUMA node read from SysFS had negative value (-1), but there must be at least one NUMA node, so returning NUMA node zero\n",
      "2023-05-01 17:57:13.927820: I tensorflow/compiler/xla/stream_executor/cuda/cuda_gpu_executor.cc:981] successful NUMA node read from SysFS had negative value (-1), but there must be at least one NUMA node, so returning NUMA node zero\n",
      "2023-05-01 17:57:13.928501: I tensorflow/compiler/xla/stream_executor/cuda/cuda_gpu_executor.cc:981] successful NUMA node read from SysFS had negative value (-1), but there must be at least one NUMA node, so returning NUMA node zero\n",
      "2023-05-01 17:57:13.929172: I tensorflow/compiler/xla/stream_executor/cuda/cuda_gpu_executor.cc:981] successful NUMA node read from SysFS had negative value (-1), but there must be at least one NUMA node, so returning NUMA node zero\n",
      "2023-05-01 17:57:13.929847: I tensorflow/compiler/xla/stream_executor/cuda/cuda_gpu_executor.cc:981] successful NUMA node read from SysFS had negative value (-1), but there must be at least one NUMA node, so returning NUMA node zero\n",
      "2023-05-01 17:57:13.930579: I tensorflow/compiler/xla/stream_executor/cuda/cuda_gpu_executor.cc:981] successful NUMA node read from SysFS had negative value (-1), but there must be at least one NUMA node, so returning NUMA node zero\n",
      "2023-05-01 17:57:13.931313: I tensorflow/compiler/xla/stream_executor/cuda/cuda_gpu_executor.cc:981] successful NUMA node read from SysFS had negative value (-1), but there must be at least one NUMA node, so returning NUMA node zero\n",
      "2023-05-01 17:57:13.931963: I tensorflow/compiler/xla/stream_executor/cuda/cuda_gpu_executor.cc:981] successful NUMA node read from SysFS had negative value (-1), but there must be at least one NUMA node, so returning NUMA node zero\n"
     ]
    },
    {
     "data": {
      "text/plain": [
       "['nasnet_large_imagenet',\n",
       " 'xception_imagenet',\n",
       " 'resnet152_imagenet',\n",
       " 'retccl',\n",
       " 'mnasnet_imagenet',\n",
       " 'resnet101_imagenet',\n",
       " 'mobilenet_imagenet',\n",
       " 'vgg19_imagenet',\n",
       " 'mobilenet_v3_large_imagenet',\n",
       " 'vgg16_imagenet',\n",
       " 'resnet152_v2_imagenet',\n",
       " 'densenet_imagenet',\n",
       " 'mobilenet_v2_imagenet',\n",
       " 'googlenet_imagenet',\n",
       " 'inception_imagenet',\n",
       " 'resnet50_imagenet',\n",
       " 'shufflenet_imagenet',\n",
       " 'squeezenet_imagenet',\n",
       " 'resnet101_v2_imagenet',\n",
       " 'mobilenet_v3_small_imagenet',\n",
       " 'resnet18_imagenet',\n",
       " 'inception_resnet_v2_imagenet',\n",
       " 'resnext50_32x4d_imagenet',\n",
       " 'ctranspath',\n",
       " 'wide_resnet50_2_imagenet',\n",
       " 'resnet50_v2_imagenet',\n",
       " 'alexnet_imagenet']"
      ]
     },
     "execution_count": 6,
     "metadata": {},
     "output_type": "execute_result"
    }
   ],
   "source": [
    "import slideflow as sf\n",
    "from slideflow.model import build_feature_extractor\n",
    "from slideflow.model import list_extractors\n",
    "list_extractors()"
   ]
  },
  {
   "cell_type": "code",
   "execution_count": 7,
   "id": "854ece34-335f-4d49-b903-91d921b4798f",
   "metadata": {},
   "outputs": [],
   "source": [
    "\n",
    "\n",
    "\n",
    "# features = sf.DatasetFeatures(\n",
    "#     'densenet161-8d451a50.pth',\n",
    "#     dataset=dataset\n",
    "#     layers='sepconv3_bn'\n",
    "# )\n",
    "\n",
    "\n",
    "# retccl = build_feature_extractor(\n",
    "#     'densenet_imagenet',\n",
    "#     tile_px=299\n",
    "# )"
   ]
  },
  {
   "cell_type": "code",
   "execution_count": 9,
   "id": "3375b339-f679-458f-87a3-79a5b1e68920",
   "metadata": {},
   "outputs": [
    {
     "data": {
      "text/html": [
       "<pre style=\"white-space:pre;overflow-x:auto;line-height:normal;font-family:Menlo,'DejaVu Sans Mono',consolas,'Courier New',monospace\"><span style=\"color: #7fbfbf; text-decoration-color: #7fbfbf\">[17:57:35] </span><span style=\"color: #000080; text-decoration-color: #000080\">INFO    </span> Creating project at sf2_proj...                                                                \n",
       "</pre>\n"
      ],
      "text/plain": [
       "\u001b[2;36m[17:57:35]\u001b[0m\u001b[2;36m \u001b[0m\u001b[34mINFO    \u001b[0m Creating project at sf2_proj...                                                                \n"
      ]
     },
     "metadata": {},
     "output_type": "display_data"
    },
    {
     "data": {
      "text/html": [
       "<pre style=\"white-space:pre;overflow-x:auto;line-height:normal;font-family:Menlo,'DejaVu Sans Mono',consolas,'Courier New',monospace\"><span style=\"color: #7fbfbf; text-decoration-color: #7fbfbf\">           </span><span style=\"color: #000080; text-decoration-color: #000080\">INFO    </span> Saved dataset source my_datasets to sf2_proj/datasets.json                                     \n",
       "</pre>\n"
      ],
      "text/plain": [
       "\u001b[2;36m          \u001b[0m\u001b[2;36m \u001b[0m\u001b[34mINFO    \u001b[0m Saved dataset source my_datasets to sf2_proj/datasets.json                                     \n"
      ]
     },
     "metadata": {},
     "output_type": "display_data"
    }
   ],
   "source": [
    "# Load a project and dataset.\n",
    "P = sf.Project(\n",
    "    root='sf2_proj',\n",
    "    annotations='annotations.csv',\n",
    "    create=True\n",
    ")\n",
    "P.add_source(\n",
    "  name=\"my_datasets\",\n",
    "  slides=\"datasets/brca-psj-path/ndpi/\",\n",
    "  tiles='datasets/brca-psj-path/contest-phase-2/clam-preprocessing-train/patches/'\n",
    ")"
   ]
  },
  {
   "cell_type": "code",
   "execution_count": 10,
   "id": "be2666e0-f868-4237-b7e8-cd965483d5a9",
   "metadata": {},
   "outputs": [],
   "source": [
    "# full_dataset = P.dataset(tile_px=299, tile_um=302)\n",
    "\n",
    "# # Calculate features for this dataset.\n",
    "# features = sf.DatasetFeatures(retccl, dataset)\n",
    "# features.to_torch('bag_dir')"
   ]
  },
  {
   "cell_type": "code",
   "execution_count": 11,
   "id": "98edc3e9-9013-4954-b8a1-3bc1bf878e9d",
   "metadata": {},
   "outputs": [],
   "source": [
    "from slideflow.mil import mil_config\n",
    "\n",
    "# config = mil_config('TransMIL', lr=1e-3)\n",
    "# config = mil_config(..., trainer='clam')\n",
    "\n",
    "#model trainer configuration\n",
    "config = mil_config(model='transmil',trainer='fastai',batch_size=8, lr=1e-3)\n"
   ]
  },
  {
   "cell_type": "code",
   "execution_count": 12,
   "id": "a1edf4d9-8ca3-4e59-a2dc-ec0de2ce0997",
   "metadata": {},
   "outputs": [
    {
     "name": "stdout",
     "output_type": "stream",
     "text": [
      "Looking in indexes: https://devpi.svc.ngsci.local/root/pypi/+simple/\n",
      "Requirement already satisfied: fastai in /opt/venv/default/lib/python3.8/site-packages (2.7.12)\n",
      "Requirement already satisfied: scikit-learn in /opt/venv/default/lib/python3.8/site-packages (from fastai) (1.2.0)\n",
      "Requirement already satisfied: pip in /opt/venv/default/lib/python3.8/site-packages (from fastai) (21.1.1)\n",
      "Requirement already satisfied: packaging in /opt/venv/default/lib/python3.8/site-packages (from fastai) (22.0)\n",
      "Requirement already satisfied: matplotlib in /opt/venv/default/lib/python3.8/site-packages (from fastai) (3.6.2)\n",
      "Requirement already satisfied: spacy<4 in /opt/venv/default/lib/python3.8/site-packages (from fastai) (3.5.2)\n",
      "Requirement already satisfied: pillow>6.0.0 in /opt/venv/default/lib/python3.8/site-packages (from fastai) (9.3.0)\n",
      "Requirement already satisfied: pyyaml in /opt/venv/default/lib/python3.8/site-packages (from fastai) (6.0)\n",
      "Requirement already satisfied: torchvision>=0.8.2 in /opt/venv/default/lib/python3.8/site-packages (from fastai) (0.12.0)\n",
      "Requirement already satisfied: requests in /opt/venv/default/lib/python3.8/site-packages (from fastai) (2.28.1)\n",
      "Requirement already satisfied: scipy in /opt/venv/default/lib/python3.8/site-packages (from fastai) (1.9.3)\n",
      "Requirement already satisfied: pandas in /opt/venv/default/lib/python3.8/site-packages (from fastai) (1.5.2)\n",
      "Requirement already satisfied: fastdownload<2,>=0.0.5 in /opt/venv/default/lib/python3.8/site-packages (from fastai) (0.0.7)\n",
      "Requirement already satisfied: torch<2.1,>=1.7 in /opt/venv/default/lib/python3.8/site-packages (from fastai) (1.11.0)\n",
      "Requirement already satisfied: fastcore<1.6,>=1.5.29 in /opt/venv/default/lib/python3.8/site-packages (from fastai) (1.5.29)\n",
      "Requirement already satisfied: fastprogress>=0.2.4 in /opt/venv/default/lib/python3.8/site-packages (from fastai) (1.0.3)\n",
      "Requirement already satisfied: pydantic!=1.8,!=1.8.1,<1.11.0,>=1.7.4 in /opt/venv/default/lib/python3.8/site-packages (from spacy<4->fastai) (1.10.7)\n",
      "Requirement already satisfied: murmurhash<1.1.0,>=0.28.0 in /opt/venv/default/lib/python3.8/site-packages (from spacy<4->fastai) (1.0.9)\n",
      "Requirement already satisfied: catalogue<2.1.0,>=2.0.6 in /opt/venv/default/lib/python3.8/site-packages (from spacy<4->fastai) (2.0.8)\n",
      "Requirement already satisfied: setuptools in /opt/venv/default/lib/python3.8/site-packages (from spacy<4->fastai) (56.0.0)\n",
      "Requirement already satisfied: spacy-loggers<2.0.0,>=1.0.0 in /opt/venv/default/lib/python3.8/site-packages (from spacy<4->fastai) (1.0.4)\n",
      "Requirement already satisfied: numpy>=1.15.0 in /opt/venv/default/lib/python3.8/site-packages (from spacy<4->fastai) (1.23.5)\n",
      "Requirement already satisfied: smart-open<7.0.0,>=5.2.1 in /opt/venv/default/lib/python3.8/site-packages (from spacy<4->fastai) (6.3.0)\n",
      "Requirement already satisfied: typer<0.8.0,>=0.3.0 in /opt/venv/default/lib/python3.8/site-packages (from spacy<4->fastai) (0.7.0)\n",
      "Requirement already satisfied: wasabi<1.2.0,>=0.9.1 in /opt/venv/default/lib/python3.8/site-packages (from spacy<4->fastai) (1.1.1)\n",
      "Requirement already satisfied: thinc<8.2.0,>=8.1.8 in /opt/venv/default/lib/python3.8/site-packages (from spacy<4->fastai) (8.1.9)\n",
      "Requirement already satisfied: spacy-legacy<3.1.0,>=3.0.11 in /opt/venv/default/lib/python3.8/site-packages (from spacy<4->fastai) (3.0.12)\n",
      "Requirement already satisfied: jinja2 in /opt/venv/default/lib/python3.8/site-packages (from spacy<4->fastai) (3.1.2)\n",
      "Requirement already satisfied: pathy>=0.10.0 in /opt/venv/default/lib/python3.8/site-packages (from spacy<4->fastai) (0.10.1)\n",
      "Requirement already satisfied: tqdm<5.0.0,>=4.38.0 in /opt/venv/default/lib/python3.8/site-packages (from spacy<4->fastai) (4.64.1)\n",
      "Requirement already satisfied: langcodes<4.0.0,>=3.2.0 in /opt/venv/default/lib/python3.8/site-packages (from spacy<4->fastai) (3.3.0)\n",
      "Requirement already satisfied: cymem<2.1.0,>=2.0.2 in /opt/venv/default/lib/python3.8/site-packages (from spacy<4->fastai) (2.0.7)\n",
      "Requirement already satisfied: preshed<3.1.0,>=3.0.2 in /opt/venv/default/lib/python3.8/site-packages (from spacy<4->fastai) (3.0.8)\n",
      "Requirement already satisfied: srsly<3.0.0,>=2.4.3 in /opt/venv/default/lib/python3.8/site-packages (from spacy<4->fastai) (2.4.6)\n",
      "Requirement already satisfied: typing-extensions>=4.2.0 in /opt/venv/default/lib/python3.8/site-packages (from pydantic!=1.8,!=1.8.1,<1.11.0,>=1.7.4->spacy<4->fastai) (4.4.0)\n",
      "Requirement already satisfied: certifi>=2017.4.17 in /opt/venv/default/lib/python3.8/site-packages (from requests->fastai) (2022.12.7)\n",
      "Requirement already satisfied: charset-normalizer<3,>=2 in /opt/venv/default/lib/python3.8/site-packages (from requests->fastai) (2.1.1)\n",
      "Requirement already satisfied: idna<4,>=2.5 in /opt/venv/default/lib/python3.8/site-packages (from requests->fastai) (3.4)\n",
      "Requirement already satisfied: urllib3<1.27,>=1.21.1 in /opt/venv/default/lib/python3.8/site-packages (from requests->fastai) (1.26.13)\n",
      "Requirement already satisfied: blis<0.8.0,>=0.7.8 in /opt/venv/default/lib/python3.8/site-packages (from thinc<8.2.0,>=8.1.8->spacy<4->fastai) (0.7.9)\n",
      "Requirement already satisfied: confection<1.0.0,>=0.0.1 in /opt/venv/default/lib/python3.8/site-packages (from thinc<8.2.0,>=8.1.8->spacy<4->fastai) (0.0.4)\n",
      "Requirement already satisfied: click<9.0.0,>=7.1.1 in /opt/venv/default/lib/python3.8/site-packages (from typer<0.8.0,>=0.3.0->spacy<4->fastai) (8.1.3)\n",
      "Requirement already satisfied: MarkupSafe>=2.0 in /opt/venv/default/lib/python3.8/site-packages (from jinja2->spacy<4->fastai) (2.1.1)\n",
      "Requirement already satisfied: python-dateutil>=2.7 in /opt/venv/default/lib/python3.8/site-packages (from matplotlib->fastai) (2.8.2)\n",
      "Requirement already satisfied: fonttools>=4.22.0 in /opt/venv/default/lib/python3.8/site-packages (from matplotlib->fastai) (4.38.0)\n",
      "Requirement already satisfied: contourpy>=1.0.1 in /opt/venv/default/lib/python3.8/site-packages (from matplotlib->fastai) (1.0.6)\n",
      "Requirement already satisfied: cycler>=0.10 in /opt/venv/default/lib/python3.8/site-packages (from matplotlib->fastai) (0.11.0)\n",
      "Requirement already satisfied: kiwisolver>=1.0.1 in /opt/venv/default/lib/python3.8/site-packages (from matplotlib->fastai) (1.4.4)\n",
      "Requirement already satisfied: pyparsing>=2.2.1 in /opt/venv/default/lib/python3.8/site-packages (from matplotlib->fastai) (3.0.9)\n",
      "Requirement already satisfied: six>=1.5 in /opt/venv/default/lib/python3.8/site-packages (from python-dateutil>=2.7->matplotlib->fastai) (1.16.0)\n",
      "Requirement already satisfied: pytz>=2020.1 in /opt/venv/default/lib/python3.8/site-packages (from pandas->fastai) (2022.7)\n",
      "Requirement already satisfied: threadpoolctl>=2.0.0 in /opt/venv/default/lib/python3.8/site-packages (from scikit-learn->fastai) (3.1.0)\n",
      "Requirement already satisfied: joblib>=1.1.1 in /opt/venv/default/lib/python3.8/site-packages (from scikit-learn->fastai) (1.2.0)\n",
      "\u001b[33mWARNING: You are using pip version 21.1.1; however, version 23.1.2 is available.\n",
      "You should consider upgrading via the '/opt/venv/default/bin/python -m pip install --upgrade pip' command.\u001b[0m\n"
     ]
    }
   ],
   "source": [
    "!{sys.executable} -m pip install fastai"
   ]
  },
  {
   "cell_type": "code",
   "execution_count": 11,
   "id": "68ed6531-38bc-4758-8523-08cd71e14ad6",
   "metadata": {},
   "outputs": [
    {
     "name": "stdout",
     "output_type": "stream",
     "text": [
      "Looking in indexes: https://devpi.svc.ngsci.local/root/pypi/+simple/\n",
      "Requirement already satisfied: nystrom_attention in /opt/venv/default/lib/python3.8/site-packages (0.0.11)\n",
      "Requirement already satisfied: einops>=0.3 in /opt/venv/default/lib/python3.8/site-packages (from nystrom_attention) (0.6.1)\n",
      "Requirement already satisfied: torch>=1.6 in /opt/venv/default/lib/python3.8/site-packages (from nystrom_attention) (1.11.0)\n",
      "Requirement already satisfied: typing-extensions in /opt/venv/default/lib/python3.8/site-packages (from torch>=1.6->nystrom_attention) (4.4.0)\n",
      "\u001b[33mWARNING: You are using pip version 21.1.1; however, version 23.1.2 is available.\n",
      "You should consider upgrading via the '/opt/venv/default/bin/python -m pip install --upgrade pip' command.\u001b[0m\n"
     ]
    }
   ],
   "source": [
    "!{sys.executable} -m pip install nystrom_attention"
   ]
  },
  {
   "cell_type": "code",
   "execution_count": 12,
   "id": "999e1de0-c06a-4faa-bf13-dd4c30059c94",
   "metadata": {},
   "outputs": [],
   "source": [
    "P = sf.load_project('sf_proj')"
   ]
  },
  {
   "cell_type": "code",
   "execution_count": 13,
   "id": "8834114d-1f24-4bf3-ac4b-94830b9390dc",
   "metadata": {},
   "outputs": [
    {
     "data": {
      "text/html": [
       "<pre style=\"white-space:pre;overflow-x:auto;line-height:normal;font-family:Menlo,'DejaVu Sans Mono',consolas,'Courier New',monospace\"><span style=\"color: #7fbfbf; text-decoration-color: #7fbfbf\">[17:57:45] </span><span style=\"color: #000080; text-decoration-color: #000080\">INFO    </span> Column 'slide' missing in annotations.                                                         \n",
       "</pre>\n"
      ],
      "text/plain": [
       "\u001b[2;36m[17:57:45]\u001b[0m\u001b[2;36m \u001b[0m\u001b[34mINFO    \u001b[0m Column 'slide' missing in annotations.                                                         \n"
      ]
     },
     "metadata": {},
     "output_type": "display_data"
    },
    {
     "data": {
      "text/html": [
       "<pre style=\"white-space:pre;overflow-x:auto;line-height:normal;font-family:Menlo,'DejaVu Sans Mono',consolas,'Courier New',monospace\"><span style=\"color: #7fbfbf; text-decoration-color: #7fbfbf\">           </span><span style=\"color: #000080; text-decoration-color: #000080\">INFO    </span> Attempting to associate patients with slides...                                                \n",
       "</pre>\n"
      ],
      "text/plain": [
       "\u001b[2;36m          \u001b[0m\u001b[2;36m \u001b[0m\u001b[34mINFO    \u001b[0m Attempting to associate patients with slides...                                                \n"
      ]
     },
     "metadata": {},
     "output_type": "display_data"
    },
    {
     "data": {
      "text/html": [
       "<pre style=\"white-space:pre;overflow-x:auto;line-height:normal;font-family:Menlo,'DejaVu Sans Mono',consolas,'Courier New',monospace\"><span style=\"color: #7fbfbf; text-decoration-color: #7fbfbf\">[17:58:41] </span><span style=\"color: #000080; text-decoration-color: #000080\">INFO    </span> Done; associated slides with 10846 annotations.                                                \n",
       "</pre>\n"
      ],
      "text/plain": [
       "\u001b[2;36m[17:58:41]\u001b[0m\u001b[2;36m \u001b[0m\u001b[34mINFO    \u001b[0m Done; associated slides with 10846 annotations.                                                \n"
      ]
     },
     "metadata": {},
     "output_type": "display_data"
    },
    {
     "data": {
      "text/html": [
       "<pre style=\"white-space:pre;overflow-x:auto;line-height:normal;font-family:Menlo,'DejaVu Sans Mono',consolas,'Courier New',monospace\"><span style=\"color: #7fbfbf; text-decoration-color: #7fbfbf\">           </span><span style=\"color: #800000; text-decoration-color: #800000\">WARNING </span> <span style=\"color: #808000; text-decoration-color: #808000\">tfrecords path not set for source my_datasets</span>                                                  \n",
       "</pre>\n"
      ],
      "text/plain": [
       "\u001b[2;36m          \u001b[0m\u001b[2;36m \u001b[0m\u001b[31mWARNING \u001b[0m \u001b[33mtfrecords path not set for source my_datasets\u001b[0m                                                  \n"
      ]
     },
     "metadata": {},
     "output_type": "display_data"
    },
    {
     "data": {
      "text/html": [
       "<pre style=\"white-space:pre;overflow-x:auto;line-height:normal;font-family:Menlo,'DejaVu Sans Mono',consolas,'Courier New',monospace\"><span style=\"color: #7fbfbf; text-decoration-color: #7fbfbf\">           </span><span style=\"color: #000080; text-decoration-color: #000080\">INFO    </span> Training FastAI MIL model with config:                                                         \n",
       "</pre>\n"
      ],
      "text/plain": [
       "\u001b[2;36m          \u001b[0m\u001b[2;36m \u001b[0m\u001b[34mINFO    \u001b[0m Training FastAI MIL model with config:                                                         \n"
      ]
     },
     "metadata": {},
     "output_type": "display_data"
    },
    {
     "data": {
      "text/html": [
       "<pre style=\"white-space:pre;overflow-x:auto;line-height:normal;font-family:Menlo,'DejaVu Sans Mono',consolas,'Courier New',monospace\"><span style=\"color: #7fbfbf; text-decoration-color: #7fbfbf\">           </span><span style=\"color: #000080; text-decoration-color: #000080\">INFO    </span> TrainerConfigFastAI(                                                                           \n",
       "<span style=\"color: #7fbfbf; text-decoration-color: #7fbfbf\">           </span>           lr=0.001                                                                                     \n",
       "<span style=\"color: #7fbfbf; text-decoration-color: #7fbfbf\">           </span>           wd=1e-05                                                                                     \n",
       "<span style=\"color: #7fbfbf; text-decoration-color: #7fbfbf\">           </span>           bag_size=512                                                                                 \n",
       "<span style=\"color: #7fbfbf; text-decoration-color: #7fbfbf\">           </span>           fit_one_cycle=True                                                                           \n",
       "<span style=\"color: #7fbfbf; text-decoration-color: #7fbfbf\">           </span>           epochs=32                                                                                    \n",
       "<span style=\"color: #7fbfbf; text-decoration-color: #7fbfbf\">           </span>           batch_size=8                                                                                 \n",
       "<span style=\"color: #7fbfbf; text-decoration-color: #7fbfbf\">           </span>           model='transmil'                                                                             \n",
       "<span style=\"color: #7fbfbf; text-decoration-color: #7fbfbf\">           </span>           use_lens=False                                                                               \n",
       "<span style=\"color: #7fbfbf; text-decoration-color: #7fbfbf\">           </span>         )                                                                                              \n",
       "</pre>\n"
      ],
      "text/plain": [
       "\u001b[2;36m          \u001b[0m\u001b[2;36m \u001b[0m\u001b[34mINFO    \u001b[0m TrainerConfigFastAI(                                                                           \n",
       "\u001b[2;36m           \u001b[0m           lr=0.001                                                                                     \n",
       "\u001b[2;36m           \u001b[0m           wd=1e-05                                                                                     \n",
       "\u001b[2;36m           \u001b[0m           bag_size=512                                                                                 \n",
       "\u001b[2;36m           \u001b[0m           fit_one_cycle=True                                                                           \n",
       "\u001b[2;36m           \u001b[0m           epochs=32                                                                                    \n",
       "\u001b[2;36m           \u001b[0m           batch_size=8                                                                                 \n",
       "\u001b[2;36m           \u001b[0m           model='transmil'                                                                             \n",
       "\u001b[2;36m           \u001b[0m           use_lens=False                                                                               \n",
       "\u001b[2;36m           \u001b[0m         )                                                                                              \n"
      ]
     },
     "metadata": {},
     "output_type": "display_data"
    },
    {
     "data": {
      "text/html": [
       "<pre style=\"white-space:pre;overflow-x:auto;line-height:normal;font-family:Menlo,'DejaVu Sans Mono',consolas,'Courier New',monospace\"><span style=\"color: #7fbfbf; text-decoration-color: #7fbfbf\">[17:58:44] </span><span style=\"color: #000080; text-decoration-color: #000080\">INFO    </span> Training dataset: 8677 bags (from 8677 slides)                                                 \n",
       "</pre>\n"
      ],
      "text/plain": [
       "\u001b[2;36m[17:58:44]\u001b[0m\u001b[2;36m \u001b[0m\u001b[34mINFO    \u001b[0m Training dataset: 8677 bags (from 8677 slides)                                                 \n"
      ]
     },
     "metadata": {},
     "output_type": "display_data"
    },
    {
     "data": {
      "text/html": [
       "<pre style=\"white-space:pre;overflow-x:auto;line-height:normal;font-family:Menlo,'DejaVu Sans Mono',consolas,'Courier New',monospace\"><span style=\"color: #7fbfbf; text-decoration-color: #7fbfbf\">           </span><span style=\"color: #000080; text-decoration-color: #000080\">INFO    </span> Validation dataset: 2169 bags (from 2169 slides)                                               \n",
       "</pre>\n"
      ],
      "text/plain": [
       "\u001b[2;36m          \u001b[0m\u001b[2;36m \u001b[0m\u001b[34mINFO    \u001b[0m Validation dataset: 2169 bags (from 2169 slides)                                               \n"
      ]
     },
     "metadata": {},
     "output_type": "display_data"
    },
    {
     "name": "stderr",
     "output_type": "stream",
     "text": [
      "/opt/venv/default/lib/python3.8/site-packages/sklearn/preprocessing/_encoders.py:808: FutureWarning: `sparse` was renamed to `sparse_output` in version 1.2 and will be removed in 1.4. `sparse_output` is ignored unless you leave `sparse` to its default value.\n",
      "  warnings.warn(\n"
     ]
    },
    {
     "data": {
      "text/html": [
       "<pre style=\"white-space:pre;overflow-x:auto;line-height:normal;font-family:Menlo,'DejaVu Sans Mono',consolas,'Courier New',monospace\"><span style=\"color: #7fbfbf; text-decoration-color: #7fbfbf\">           </span><span style=\"color: #000080; text-decoration-color: #000080\">INFO    </span> Training model TransMIL, loss=CrossEntropyLoss                                                 \n",
       "</pre>\n"
      ],
      "text/plain": [
       "\u001b[2;36m          \u001b[0m\u001b[2;36m \u001b[0m\u001b[34mINFO    \u001b[0m Training model TransMIL, loss=CrossEntropyLoss                                                 \n"
      ]
     },
     "metadata": {},
     "output_type": "display_data"
    },
    {
     "data": {
      "text/html": [
       "\n",
       "<style>\n",
       "    /* Turns off some styling */\n",
       "    progress {\n",
       "        /* gets rid of default border in Firefox and Opera. */\n",
       "        border: none;\n",
       "        /* Needs to be in here for Safari polyfill so background images work as expected. */\n",
       "        background-size: auto;\n",
       "    }\n",
       "    progress:not([value]), progress:not([value])::-webkit-progress-bar {\n",
       "        background: repeating-linear-gradient(45deg, #7e7e7e, #7e7e7e 10px, #5c5c5c 10px, #5c5c5c 20px);\n",
       "    }\n",
       "    .progress-bar-interrupted, .progress-bar-interrupted::-webkit-progress-bar {\n",
       "        background: #F44336;\n",
       "    }\n",
       "</style>\n"
      ],
      "text/plain": [
       "<IPython.core.display.HTML object>"
      ]
     },
     "metadata": {},
     "output_type": "display_data"
    },
    {
     "data": {
      "text/html": [
       "\n",
       "    <div>\n",
       "      <progress value='23' class='' max='32' style='width:300px; height:20px; vertical-align: middle;'></progress>\n",
       "      71.88% [23/32 59:44:53&lt;23:22:47]\n",
       "    </div>\n",
       "    \n",
       "<table border=\"1\" class=\"dataframe\">\n",
       "  <thead>\n",
       "    <tr style=\"text-align: left;\">\n",
       "      <th>epoch</th>\n",
       "      <th>train_loss</th>\n",
       "      <th>valid_loss</th>\n",
       "      <th>roc_auc_score</th>\n",
       "      <th>time</th>\n",
       "    </tr>\n",
       "  </thead>\n",
       "  <tbody>\n",
       "    <tr>\n",
       "      <td>0</td>\n",
       "      <td>0.176426</td>\n",
       "      <td>0.201070</td>\n",
       "      <td>0.564571</td>\n",
       "      <td>2:36:02</td>\n",
       "    </tr>\n",
       "    <tr>\n",
       "      <td>1</td>\n",
       "      <td>0.168276</td>\n",
       "      <td>0.185178</td>\n",
       "      <td>0.573556</td>\n",
       "      <td>2:47:13</td>\n",
       "    </tr>\n",
       "    <tr>\n",
       "      <td>2</td>\n",
       "      <td>0.175078</td>\n",
       "      <td>0.186332</td>\n",
       "      <td>0.548260</td>\n",
       "      <td>2:42:07</td>\n",
       "    </tr>\n",
       "    <tr>\n",
       "      <td>3</td>\n",
       "      <td>0.180708</td>\n",
       "      <td>0.186939</td>\n",
       "      <td>0.560674</td>\n",
       "      <td>2:39:52</td>\n",
       "    </tr>\n",
       "    <tr>\n",
       "      <td>4</td>\n",
       "      <td>0.186897</td>\n",
       "      <td>0.184211</td>\n",
       "      <td>0.572122</td>\n",
       "      <td>2:41:07</td>\n",
       "    </tr>\n",
       "    <tr>\n",
       "      <td>5</td>\n",
       "      <td>0.168908</td>\n",
       "      <td>0.197800</td>\n",
       "      <td>0.538804</td>\n",
       "      <td>2:40:17</td>\n",
       "    </tr>\n",
       "    <tr>\n",
       "      <td>6</td>\n",
       "      <td>0.167140</td>\n",
       "      <td>0.204255</td>\n",
       "      <td>0.544435</td>\n",
       "      <td>2:39:18</td>\n",
       "    </tr>\n",
       "    <tr>\n",
       "      <td>7</td>\n",
       "      <td>0.170284</td>\n",
       "      <td>0.200467</td>\n",
       "      <td>0.587654</td>\n",
       "      <td>2:33:44</td>\n",
       "    </tr>\n",
       "    <tr>\n",
       "      <td>8</td>\n",
       "      <td>0.165664</td>\n",
       "      <td>0.206838</td>\n",
       "      <td>0.594278</td>\n",
       "      <td>2:36:42</td>\n",
       "    </tr>\n",
       "    <tr>\n",
       "      <td>9</td>\n",
       "      <td>0.168115</td>\n",
       "      <td>0.179980</td>\n",
       "      <td>0.589516</td>\n",
       "      <td>2:33:28</td>\n",
       "    </tr>\n",
       "    <tr>\n",
       "      <td>10</td>\n",
       "      <td>0.165223</td>\n",
       "      <td>0.192588</td>\n",
       "      <td>0.559857</td>\n",
       "      <td>2:33:10</td>\n",
       "    </tr>\n",
       "    <tr>\n",
       "      <td>11</td>\n",
       "      <td>0.170977</td>\n",
       "      <td>0.186974</td>\n",
       "      <td>0.583409</td>\n",
       "      <td>2:33:06</td>\n",
       "    </tr>\n",
       "    <tr>\n",
       "      <td>12</td>\n",
       "      <td>0.164717</td>\n",
       "      <td>0.201413</td>\n",
       "      <td>0.573027</td>\n",
       "      <td>2:31:26</td>\n",
       "    </tr>\n",
       "    <tr>\n",
       "      <td>13</td>\n",
       "      <td>0.167148</td>\n",
       "      <td>0.193062</td>\n",
       "      <td>0.577336</td>\n",
       "      <td>2:32:09</td>\n",
       "    </tr>\n",
       "    <tr>\n",
       "      <td>14</td>\n",
       "      <td>0.161143</td>\n",
       "      <td>0.193236</td>\n",
       "      <td>0.606857</td>\n",
       "      <td>2:29:24</td>\n",
       "    </tr>\n",
       "    <tr>\n",
       "      <td>15</td>\n",
       "      <td>0.162174</td>\n",
       "      <td>0.196607</td>\n",
       "      <td>0.607984</td>\n",
       "      <td>2:30:26</td>\n",
       "    </tr>\n",
       "    <tr>\n",
       "      <td>16</td>\n",
       "      <td>0.158912</td>\n",
       "      <td>0.210537</td>\n",
       "      <td>0.592298</td>\n",
       "      <td>2:38:37</td>\n",
       "    </tr>\n",
       "    <tr>\n",
       "      <td>17</td>\n",
       "      <td>0.160717</td>\n",
       "      <td>0.206992</td>\n",
       "      <td>0.583668</td>\n",
       "      <td>2:39:22</td>\n",
       "    </tr>\n",
       "    <tr>\n",
       "      <td>18</td>\n",
       "      <td>0.155885</td>\n",
       "      <td>0.185598</td>\n",
       "      <td>0.611116</td>\n",
       "      <td>2:37:16</td>\n",
       "    </tr>\n",
       "    <tr>\n",
       "      <td>19</td>\n",
       "      <td>0.153225</td>\n",
       "      <td>0.202799</td>\n",
       "      <td>0.577835</td>\n",
       "      <td>2:43:00</td>\n",
       "    </tr>\n",
       "    <tr>\n",
       "      <td>20</td>\n",
       "      <td>0.136830</td>\n",
       "      <td>0.186585</td>\n",
       "      <td>0.608111</td>\n",
       "      <td>2:31:24</td>\n",
       "    </tr>\n",
       "    <tr>\n",
       "      <td>21</td>\n",
       "      <td>0.147342</td>\n",
       "      <td>0.194130</td>\n",
       "      <td>0.589753</td>\n",
       "      <td>2:28:16</td>\n",
       "    </tr>\n",
       "    <tr>\n",
       "      <td>22</td>\n",
       "      <td>0.151953</td>\n",
       "      <td>0.197869</td>\n",
       "      <td>0.599335</td>\n",
       "      <td>2:27:16</td>\n",
       "    </tr>\n",
       "  </tbody>\n",
       "</table><p>\n",
       "\n",
       "    <div>\n",
       "      <progress value='788' class='' max='1085' style='width:300px; height:20px; vertical-align: middle;'></progress>\n",
       "      72.63% [788/1085 1:37:26&lt;36:43 0.1543]\n",
       "    </div>\n",
       "    "
      ],
      "text/plain": [
       "<IPython.core.display.HTML object>"
      ]
     },
     "metadata": {},
     "output_type": "display_data"
    },
    {
     "name": "stdout",
     "output_type": "stream",
     "text": [
      "Better model found at epoch 0 with valid_loss value: 0.20106999576091766.\n",
      "Better model found at epoch 1 with valid_loss value: 0.18517804145812988.\n",
      "Better model found at epoch 4 with valid_loss value: 0.1842106282711029.\n",
      "Better model found at epoch 9 with valid_loss value: 0.17997997999191284.\n"
     ]
    },
    {
     "name": "stderr",
     "output_type": "stream",
     "text": [
      "IOPub message rate exceeded.\n",
      "The Jupyter server will temporarily stop sending output\n",
      "to the client in order to avoid crashing it.\n",
      "To change this limit, set the config variable\n",
      "`--ServerApp.iopub_msg_rate_limit`.\n",
      "\n",
      "Current values:\n",
      "ServerApp.iopub_msg_rate_limit=1000.0 (msgs/sec)\n",
      "ServerApp.rate_limit_window=3.0 (secs)\n",
      "\n",
      "IOPub message rate exceeded.\n",
      "The Jupyter server will temporarily stop sending output\n",
      "to the client in order to avoid crashing it.\n",
      "To change this limit, set the config variable\n",
      "`--ServerApp.iopub_msg_rate_limit`.\n",
      "\n",
      "Current values:\n",
      "ServerApp.iopub_msg_rate_limit=1000.0 (msgs/sec)\n",
      "ServerApp.rate_limit_window=3.0 (secs)\n",
      "\n"
     ]
    },
    {
     "ename": "KeyboardInterrupt",
     "evalue": "",
     "output_type": "error",
     "traceback": [
      "\u001b[0;31m---------------------------------------------------------------------------\u001b[0m",
      "\u001b[0;31mKeyboardInterrupt\u001b[0m                         Traceback (most recent call last)",
      "Cell \u001b[0;32mIn[13], line 24\u001b[0m\n\u001b[1;32m     21\u001b[0m train_dataset \u001b[38;5;241m=\u001b[39m full_dataset\u001b[38;5;241m.\u001b[39mfilter({\u001b[38;5;124m\"\u001b[39m\u001b[38;5;124mdataset\u001b[39m\u001b[38;5;124m\"\u001b[39m: [\u001b[38;5;124m\"\u001b[39m\u001b[38;5;124mtrain\u001b[39m\u001b[38;5;124m\"\u001b[39m]})\n\u001b[1;32m     22\u001b[0m val_dataset \u001b[38;5;241m=\u001b[39m full_dataset\u001b[38;5;241m.\u001b[39mfilter({\u001b[38;5;124m\"\u001b[39m\u001b[38;5;124mdataset\u001b[39m\u001b[38;5;124m\"\u001b[39m: [\u001b[38;5;124m\"\u001b[39m\u001b[38;5;124meval\u001b[39m\u001b[38;5;124m\"\u001b[39m]})\n\u001b[0;32m---> 24\u001b[0m \u001b[43mP\u001b[49m\u001b[38;5;241;43m.\u001b[39;49m\u001b[43mtrain_mil\u001b[49m\u001b[43m(\u001b[49m\n\u001b[1;32m     25\u001b[0m \u001b[43m    \u001b[49m\u001b[43mconfig\u001b[49m\u001b[38;5;241;43m=\u001b[39;49m\u001b[43mconfig\u001b[49m\u001b[43m,\u001b[49m\n\u001b[1;32m     26\u001b[0m \u001b[43m    \u001b[49m\u001b[43moutcomes\u001b[49m\u001b[38;5;241;43m=\u001b[39;49m\u001b[38;5;124;43m'\u001b[39;49m\u001b[38;5;124;43mstage\u001b[39;49m\u001b[38;5;124;43m'\u001b[39;49m\u001b[43m,\u001b[49m\n\u001b[1;32m     27\u001b[0m \u001b[43m    \u001b[49m\u001b[43mtrain_dataset\u001b[49m\u001b[38;5;241;43m=\u001b[39;49m\u001b[43mtrain_dataset\u001b[49m\u001b[43m,\u001b[49m\n\u001b[1;32m     28\u001b[0m \u001b[43m    \u001b[49m\u001b[43mval_dataset\u001b[49m\u001b[38;5;241;43m=\u001b[39;49m\u001b[43mval_dataset\u001b[49m\u001b[43m,\u001b[49m\n\u001b[1;32m     29\u001b[0m \u001b[43m    \u001b[49m\u001b[43mfrom_wsi\u001b[49m\u001b[38;5;241;43m=\u001b[39;49m\u001b[38;5;28;43;01mTrue\u001b[39;49;00m\u001b[43m,\u001b[49m\n\u001b[1;32m     30\u001b[0m \u001b[43m    \u001b[49m\u001b[43mstarting_epoch\u001b[49m\u001b[38;5;241;43m=\u001b[39;49m\u001b[38;5;241;43m2\u001b[39;49m\u001b[43m,\u001b[49m\n\u001b[1;32m     31\u001b[0m \u001b[43m    \u001b[49m\u001b[43mmulti_gpu\u001b[49m\u001b[38;5;241;43m=\u001b[39;49m\u001b[38;5;28;43;01mTrue\u001b[39;49;00m\u001b[43m,\u001b[49m\n\u001b[1;32m     32\u001b[0m \u001b[43m    \u001b[49m\u001b[43msave_model\u001b[49m\u001b[38;5;241;43m=\u001b[39;49m\u001b[38;5;28;43;01mTrue\u001b[39;49;00m\u001b[43m,\u001b[49m\n\u001b[1;32m     33\u001b[0m \u001b[43m    \u001b[49m\u001b[43msave_checkpoint\u001b[49m\u001b[38;5;241;43m=\u001b[39;49m\u001b[38;5;28;43;01mTrue\u001b[39;49;00m\u001b[43m,\u001b[49m\n\u001b[1;32m     34\u001b[0m \u001b[43m    \u001b[49m\u001b[43mvalidation_batch_size\u001b[49m\u001b[38;5;241;43m=\u001b[39;49m\u001b[43m \u001b[49m\u001b[38;5;241;43m8\u001b[39;49m\u001b[43m,\u001b[49m\n\u001b[1;32m     35\u001b[0m \u001b[43m    \u001b[49m\u001b[43mbags\u001b[49m\u001b[38;5;241;43m=\u001b[39;49m\u001b[38;5;124;43m'\u001b[39;49m\u001b[38;5;124;43mdatasets/brca-psj-path/contest-phase-2/clam-preprocessing-train/resnet50-features/pt_files\u001b[39;49m\u001b[38;5;124;43m'\u001b[39;49m\n\u001b[1;32m     36\u001b[0m \u001b[43m    \u001b[49m\u001b[43m)\u001b[49m\n\u001b[1;32m     37\u001b[0m \u001b[38;5;66;03m# P.train_clam('NAME', 'datasets/brca-psj-path/contest-phase-2/clam-preprocessing-train/resnet50-features/pt_files/', 'stage', full_dataset,from_wsi=True)\u001b[39;00m\n\u001b[1;32m     38\u001b[0m \u001b[38;5;66;03m# print(full_dataset)\u001b[39;00m\n",
      "File \u001b[0;32m/opt/venv/default/lib/python3.8/site-packages/slideflow/project.py:3735\u001b[0m, in \u001b[0;36mProject.train_mil\u001b[0;34m(self, config, train_dataset, val_dataset, outcomes, bags, exp_label, **kwargs)\u001b[0m\n\u001b[1;32m   3701\u001b[0m \u001b[38;5;124mr\u001b[39m\u001b[38;5;124;03m\"\"\"Train a multi-instance learning model.\u001b[39;00m\n\u001b[1;32m   3702\u001b[0m \n\u001b[1;32m   3703\u001b[0m \u001b[38;5;124;03mArgs:\u001b[39;00m\n\u001b[0;32m   (...)\u001b[0m\n\u001b[1;32m   3731\u001b[0m \n\u001b[1;32m   3732\u001b[0m \u001b[38;5;124;03m\"\"\"\u001b[39;00m\n\u001b[1;32m   3733\u001b[0m \u001b[38;5;28;01mfrom\u001b[39;00m \u001b[38;5;21;01m.\u001b[39;00m\u001b[38;5;21;01mmil\u001b[39;00m \u001b[38;5;28;01mimport\u001b[39;00m train_mil\n\u001b[0;32m-> 3735\u001b[0m \u001b[38;5;28;01mreturn\u001b[39;00m \u001b[43mtrain_mil\u001b[49m\u001b[43m(\u001b[49m\n\u001b[1;32m   3736\u001b[0m \u001b[43m    \u001b[49m\u001b[43mconfig\u001b[49m\u001b[43m,\u001b[49m\n\u001b[1;32m   3737\u001b[0m \u001b[43m    \u001b[49m\u001b[43mtrain_dataset\u001b[49m\u001b[43m,\u001b[49m\n\u001b[1;32m   3738\u001b[0m \u001b[43m    \u001b[49m\u001b[43mval_dataset\u001b[49m\u001b[43m,\u001b[49m\n\u001b[1;32m   3739\u001b[0m \u001b[43m    \u001b[49m\u001b[43moutcomes\u001b[49m\u001b[43m,\u001b[49m\n\u001b[1;32m   3740\u001b[0m \u001b[43m    \u001b[49m\u001b[43mbags\u001b[49m\u001b[43m,\u001b[49m\n\u001b[1;32m   3741\u001b[0m \u001b[43m    \u001b[49m\u001b[43moutdir\u001b[49m\u001b[38;5;241;43m=\u001b[39;49m\u001b[43mjoin\u001b[49m\u001b[43m(\u001b[49m\u001b[38;5;28;43mself\u001b[39;49m\u001b[38;5;241;43m.\u001b[39;49m\u001b[43mroot\u001b[49m\u001b[43m,\u001b[49m\u001b[43m \u001b[49m\u001b[38;5;124;43m'\u001b[39;49m\u001b[38;5;124;43mmil\u001b[39;49m\u001b[38;5;124;43m'\u001b[39;49m\u001b[43m)\u001b[49m\u001b[43m,\u001b[49m\n\u001b[1;32m   3742\u001b[0m \u001b[43m    \u001b[49m\u001b[43mexp_label\u001b[49m\u001b[38;5;241;43m=\u001b[39;49m\u001b[43mexp_label\u001b[49m\u001b[43m,\u001b[49m\n\u001b[1;32m   3743\u001b[0m \u001b[43m    \u001b[49m\u001b[38;5;241;43m*\u001b[39;49m\u001b[38;5;241;43m*\u001b[39;49m\u001b[43mkwargs\u001b[49m\n\u001b[1;32m   3744\u001b[0m \u001b[43m\u001b[49m\u001b[43m)\u001b[49m\n",
      "File \u001b[0;32m/opt/venv/default/lib/python3.8/site-packages/slideflow/mil/train/__init__.py:92\u001b[0m, in \u001b[0;36mtrain_mil\u001b[0;34m(config, train_dataset, val_dataset, outcomes, bags, outdir, exp_label, **kwargs)\u001b[0m\n\u001b[1;32m     89\u001b[0m outdir \u001b[38;5;241m=\u001b[39m sf\u001b[38;5;241m.\u001b[39mutil\u001b[38;5;241m.\u001b[39mcreate_new_model_dir(outdir, exp_label)\n\u001b[1;32m     90\u001b[0m sf\u001b[38;5;241m.\u001b[39mutil\u001b[38;5;241m.\u001b[39mwrite_json(config\u001b[38;5;241m.\u001b[39mjson_dump(), join(outdir, \u001b[38;5;124m'\u001b[39m\u001b[38;5;124mmil_params.json\u001b[39m\u001b[38;5;124m'\u001b[39m))\n\u001b[0;32m---> 92\u001b[0m \u001b[38;5;28;01mreturn\u001b[39;00m \u001b[43mtrain_fn\u001b[49m\u001b[43m(\u001b[49m\n\u001b[1;32m     93\u001b[0m \u001b[43m    \u001b[49m\u001b[43mconfig\u001b[49m\u001b[43m,\u001b[49m\n\u001b[1;32m     94\u001b[0m \u001b[43m    \u001b[49m\u001b[43mtrain_dataset\u001b[49m\u001b[43m,\u001b[49m\n\u001b[1;32m     95\u001b[0m \u001b[43m    \u001b[49m\u001b[43mval_dataset\u001b[49m\u001b[43m,\u001b[49m\n\u001b[1;32m     96\u001b[0m \u001b[43m    \u001b[49m\u001b[43moutcomes\u001b[49m\u001b[43m,\u001b[49m\n\u001b[1;32m     97\u001b[0m \u001b[43m    \u001b[49m\u001b[43mbags\u001b[49m\u001b[43m,\u001b[49m\n\u001b[1;32m     98\u001b[0m \u001b[43m    \u001b[49m\u001b[43moutdir\u001b[49m\u001b[38;5;241;43m=\u001b[39;49m\u001b[43moutdir\u001b[49m\u001b[43m,\u001b[49m\n\u001b[1;32m     99\u001b[0m \u001b[43m    \u001b[49m\u001b[38;5;241;43m*\u001b[39;49m\u001b[38;5;241;43m*\u001b[39;49m\u001b[43mkwargs\u001b[49m\n\u001b[1;32m    100\u001b[0m \u001b[43m\u001b[49m\u001b[43m)\u001b[49m\n",
      "File \u001b[0;32m/opt/venv/default/lib/python3.8/site-packages/slideflow/mil/train/__init__.py:392\u001b[0m, in \u001b[0;36mtrain_fastai\u001b[0;34m(config, train_dataset, val_dataset, outcomes, bags, outdir, attention_heatmaps, **heatmap_kwargs)\u001b[0m\n\u001b[1;32m    382\u001b[0m learner \u001b[38;5;241m=\u001b[39m build_fastai_learner(\n\u001b[1;32m    383\u001b[0m     config,\n\u001b[1;32m    384\u001b[0m     train_dataset,\n\u001b[0;32m   (...)\u001b[0m\n\u001b[1;32m    388\u001b[0m     outdir\u001b[38;5;241m=\u001b[39moutdir,\n\u001b[1;32m    389\u001b[0m )\n\u001b[1;32m    391\u001b[0m \u001b[38;5;66;03m# Train.\u001b[39;00m\n\u001b[0;32m--> 392\u001b[0m \u001b[43m_fastai\u001b[49m\u001b[38;5;241;43m.\u001b[39;49m\u001b[43mtrain\u001b[49m\u001b[43m(\u001b[49m\u001b[43mlearner\u001b[49m\u001b[43m,\u001b[49m\u001b[43m \u001b[49m\u001b[43mconfig\u001b[49m\u001b[43m)\u001b[49m\n\u001b[1;32m    394\u001b[0m \u001b[38;5;66;03m# Generate validation predictions.\u001b[39;00m\n\u001b[1;32m    395\u001b[0m df, attention \u001b[38;5;241m=\u001b[39m predict_from_model(\n\u001b[1;32m    396\u001b[0m     learner\u001b[38;5;241m.\u001b[39mmodel,\n\u001b[1;32m    397\u001b[0m     config,\n\u001b[0;32m   (...)\u001b[0m\n\u001b[1;32m    401\u001b[0m     attention\u001b[38;5;241m=\u001b[39m\u001b[38;5;28;01mTrue\u001b[39;00m\n\u001b[1;32m    402\u001b[0m )\n",
      "File \u001b[0;32m/opt/venv/default/lib/python3.8/site-packages/slideflow/mil/train/_fastai.py:40\u001b[0m, in \u001b[0;36mtrain\u001b[0;34m(learner, config, callbacks)\u001b[0m\n\u001b[1;32m     38\u001b[0m     \u001b[38;5;28;01melse\u001b[39;00m:\n\u001b[1;32m     39\u001b[0m         lr \u001b[38;5;241m=\u001b[39m config\u001b[38;5;241m.\u001b[39mlr\n\u001b[0;32m---> 40\u001b[0m     \u001b[43mlearner\u001b[49m\u001b[38;5;241;43m.\u001b[39;49m\u001b[43mfit_one_cycle\u001b[49m\u001b[43m(\u001b[49m\u001b[43mn_epoch\u001b[49m\u001b[38;5;241;43m=\u001b[39;49m\u001b[43mconfig\u001b[49m\u001b[38;5;241;43m.\u001b[39;49m\u001b[43mepochs\u001b[49m\u001b[43m,\u001b[49m\u001b[43m \u001b[49m\u001b[43mlr_max\u001b[49m\u001b[38;5;241;43m=\u001b[39;49m\u001b[43mlr\u001b[49m\u001b[43m,\u001b[49m\u001b[43m \u001b[49m\u001b[43mcbs\u001b[49m\u001b[38;5;241;43m=\u001b[39;49m\u001b[43mcbs\u001b[49m\u001b[43m)\u001b[49m\n\u001b[1;32m     41\u001b[0m \u001b[38;5;28;01melse\u001b[39;00m:\n\u001b[1;32m     42\u001b[0m     \u001b[38;5;28;01mif\u001b[39;00m config\u001b[38;5;241m.\u001b[39mlr \u001b[38;5;129;01mis\u001b[39;00m \u001b[38;5;28;01mNone\u001b[39;00m:\n",
      "File \u001b[0;32m/opt/venv/default/lib/python3.8/site-packages/fastai/callback/schedule.py:119\u001b[0m, in \u001b[0;36mfit_one_cycle\u001b[0;34m(self, n_epoch, lr_max, div, div_final, pct_start, wd, moms, cbs, reset_opt, start_epoch)\u001b[0m\n\u001b[1;32m    116\u001b[0m lr_max \u001b[38;5;241m=\u001b[39m np\u001b[38;5;241m.\u001b[39marray([h[\u001b[38;5;124m'\u001b[39m\u001b[38;5;124mlr\u001b[39m\u001b[38;5;124m'\u001b[39m] \u001b[38;5;28;01mfor\u001b[39;00m h \u001b[38;5;129;01min\u001b[39;00m \u001b[38;5;28mself\u001b[39m\u001b[38;5;241m.\u001b[39mopt\u001b[38;5;241m.\u001b[39mhypers])\n\u001b[1;32m    117\u001b[0m scheds \u001b[38;5;241m=\u001b[39m {\u001b[38;5;124m'\u001b[39m\u001b[38;5;124mlr\u001b[39m\u001b[38;5;124m'\u001b[39m: combined_cos(pct_start, lr_max\u001b[38;5;241m/\u001b[39mdiv, lr_max, lr_max\u001b[38;5;241m/\u001b[39mdiv_final),\n\u001b[1;32m    118\u001b[0m           \u001b[38;5;124m'\u001b[39m\u001b[38;5;124mmom\u001b[39m\u001b[38;5;124m'\u001b[39m: combined_cos(pct_start, \u001b[38;5;241m*\u001b[39m(\u001b[38;5;28mself\u001b[39m\u001b[38;5;241m.\u001b[39mmoms \u001b[38;5;28;01mif\u001b[39;00m moms \u001b[38;5;129;01mis\u001b[39;00m \u001b[38;5;28;01mNone\u001b[39;00m \u001b[38;5;28;01melse\u001b[39;00m moms))}\n\u001b[0;32m--> 119\u001b[0m \u001b[38;5;28;43mself\u001b[39;49m\u001b[38;5;241;43m.\u001b[39;49m\u001b[43mfit\u001b[49m\u001b[43m(\u001b[49m\u001b[43mn_epoch\u001b[49m\u001b[43m,\u001b[49m\u001b[43m \u001b[49m\u001b[43mcbs\u001b[49m\u001b[38;5;241;43m=\u001b[39;49m\u001b[43mParamScheduler\u001b[49m\u001b[43m(\u001b[49m\u001b[43mscheds\u001b[49m\u001b[43m)\u001b[49m\u001b[38;5;241;43m+\u001b[39;49m\u001b[43mL\u001b[49m\u001b[43m(\u001b[49m\u001b[43mcbs\u001b[49m\u001b[43m)\u001b[49m\u001b[43m,\u001b[49m\u001b[43m \u001b[49m\u001b[43mreset_opt\u001b[49m\u001b[38;5;241;43m=\u001b[39;49m\u001b[43mreset_opt\u001b[49m\u001b[43m,\u001b[49m\u001b[43m \u001b[49m\u001b[43mwd\u001b[49m\u001b[38;5;241;43m=\u001b[39;49m\u001b[43mwd\u001b[49m\u001b[43m,\u001b[49m\u001b[43m \u001b[49m\u001b[43mstart_epoch\u001b[49m\u001b[38;5;241;43m=\u001b[39;49m\u001b[43mstart_epoch\u001b[49m\u001b[43m)\u001b[49m\n",
      "File \u001b[0;32m/opt/venv/default/lib/python3.8/site-packages/fastai/learner.py:264\u001b[0m, in \u001b[0;36mLearner.fit\u001b[0;34m(self, n_epoch, lr, wd, cbs, reset_opt, start_epoch)\u001b[0m\n\u001b[1;32m    262\u001b[0m \u001b[38;5;28mself\u001b[39m\u001b[38;5;241m.\u001b[39mopt\u001b[38;5;241m.\u001b[39mset_hypers(lr\u001b[38;5;241m=\u001b[39m\u001b[38;5;28mself\u001b[39m\u001b[38;5;241m.\u001b[39mlr \u001b[38;5;28;01mif\u001b[39;00m lr \u001b[38;5;129;01mis\u001b[39;00m \u001b[38;5;28;01mNone\u001b[39;00m \u001b[38;5;28;01melse\u001b[39;00m lr)\n\u001b[1;32m    263\u001b[0m \u001b[38;5;28mself\u001b[39m\u001b[38;5;241m.\u001b[39mn_epoch \u001b[38;5;241m=\u001b[39m n_epoch\n\u001b[0;32m--> 264\u001b[0m \u001b[38;5;28;43mself\u001b[39;49m\u001b[38;5;241;43m.\u001b[39;49m\u001b[43m_with_events\u001b[49m\u001b[43m(\u001b[49m\u001b[38;5;28;43mself\u001b[39;49m\u001b[38;5;241;43m.\u001b[39;49m\u001b[43m_do_fit\u001b[49m\u001b[43m,\u001b[49m\u001b[43m \u001b[49m\u001b[38;5;124;43m'\u001b[39;49m\u001b[38;5;124;43mfit\u001b[39;49m\u001b[38;5;124;43m'\u001b[39;49m\u001b[43m,\u001b[49m\u001b[43m \u001b[49m\u001b[43mCancelFitException\u001b[49m\u001b[43m,\u001b[49m\u001b[43m \u001b[49m\u001b[38;5;28;43mself\u001b[39;49m\u001b[38;5;241;43m.\u001b[39;49m\u001b[43m_end_cleanup\u001b[49m\u001b[43m)\u001b[49m\n",
      "File \u001b[0;32m/opt/venv/default/lib/python3.8/site-packages/fastai/learner.py:199\u001b[0m, in \u001b[0;36mLearner._with_events\u001b[0;34m(self, f, event_type, ex, final)\u001b[0m\n\u001b[1;32m    198\u001b[0m \u001b[38;5;28;01mdef\u001b[39;00m \u001b[38;5;21m_with_events\u001b[39m(\u001b[38;5;28mself\u001b[39m, f, event_type, ex, final\u001b[38;5;241m=\u001b[39mnoop):\n\u001b[0;32m--> 199\u001b[0m     \u001b[38;5;28;01mtry\u001b[39;00m: \u001b[38;5;28mself\u001b[39m(\u001b[38;5;124mf\u001b[39m\u001b[38;5;124m'\u001b[39m\u001b[38;5;124mbefore_\u001b[39m\u001b[38;5;132;01m{\u001b[39;00mevent_type\u001b[38;5;132;01m}\u001b[39;00m\u001b[38;5;124m'\u001b[39m);  \u001b[43mf\u001b[49m\u001b[43m(\u001b[49m\u001b[43m)\u001b[49m\n\u001b[1;32m    200\u001b[0m     \u001b[38;5;28;01mexcept\u001b[39;00m ex: \u001b[38;5;28mself\u001b[39m(\u001b[38;5;124mf\u001b[39m\u001b[38;5;124m'\u001b[39m\u001b[38;5;124mafter_cancel_\u001b[39m\u001b[38;5;132;01m{\u001b[39;00mevent_type\u001b[38;5;132;01m}\u001b[39;00m\u001b[38;5;124m'\u001b[39m)\n\u001b[1;32m    201\u001b[0m     \u001b[38;5;28mself\u001b[39m(\u001b[38;5;124mf\u001b[39m\u001b[38;5;124m'\u001b[39m\u001b[38;5;124mafter_\u001b[39m\u001b[38;5;132;01m{\u001b[39;00mevent_type\u001b[38;5;132;01m}\u001b[39;00m\u001b[38;5;124m'\u001b[39m);  final()\n",
      "File \u001b[0;32m/opt/venv/default/lib/python3.8/site-packages/fastai/learner.py:253\u001b[0m, in \u001b[0;36mLearner._do_fit\u001b[0;34m(self)\u001b[0m\n\u001b[1;32m    251\u001b[0m \u001b[38;5;28;01mfor\u001b[39;00m epoch \u001b[38;5;129;01min\u001b[39;00m \u001b[38;5;28mrange\u001b[39m(\u001b[38;5;28mself\u001b[39m\u001b[38;5;241m.\u001b[39mn_epoch):\n\u001b[1;32m    252\u001b[0m     \u001b[38;5;28mself\u001b[39m\u001b[38;5;241m.\u001b[39mepoch\u001b[38;5;241m=\u001b[39mepoch\n\u001b[0;32m--> 253\u001b[0m     \u001b[38;5;28;43mself\u001b[39;49m\u001b[38;5;241;43m.\u001b[39;49m\u001b[43m_with_events\u001b[49m\u001b[43m(\u001b[49m\u001b[38;5;28;43mself\u001b[39;49m\u001b[38;5;241;43m.\u001b[39;49m\u001b[43m_do_epoch\u001b[49m\u001b[43m,\u001b[49m\u001b[43m \u001b[49m\u001b[38;5;124;43m'\u001b[39;49m\u001b[38;5;124;43mepoch\u001b[39;49m\u001b[38;5;124;43m'\u001b[39;49m\u001b[43m,\u001b[49m\u001b[43m \u001b[49m\u001b[43mCancelEpochException\u001b[49m\u001b[43m)\u001b[49m\n",
      "File \u001b[0;32m/opt/venv/default/lib/python3.8/site-packages/fastai/learner.py:199\u001b[0m, in \u001b[0;36mLearner._with_events\u001b[0;34m(self, f, event_type, ex, final)\u001b[0m\n\u001b[1;32m    198\u001b[0m \u001b[38;5;28;01mdef\u001b[39;00m \u001b[38;5;21m_with_events\u001b[39m(\u001b[38;5;28mself\u001b[39m, f, event_type, ex, final\u001b[38;5;241m=\u001b[39mnoop):\n\u001b[0;32m--> 199\u001b[0m     \u001b[38;5;28;01mtry\u001b[39;00m: \u001b[38;5;28mself\u001b[39m(\u001b[38;5;124mf\u001b[39m\u001b[38;5;124m'\u001b[39m\u001b[38;5;124mbefore_\u001b[39m\u001b[38;5;132;01m{\u001b[39;00mevent_type\u001b[38;5;132;01m}\u001b[39;00m\u001b[38;5;124m'\u001b[39m);  \u001b[43mf\u001b[49m\u001b[43m(\u001b[49m\u001b[43m)\u001b[49m\n\u001b[1;32m    200\u001b[0m     \u001b[38;5;28;01mexcept\u001b[39;00m ex: \u001b[38;5;28mself\u001b[39m(\u001b[38;5;124mf\u001b[39m\u001b[38;5;124m'\u001b[39m\u001b[38;5;124mafter_cancel_\u001b[39m\u001b[38;5;132;01m{\u001b[39;00mevent_type\u001b[38;5;132;01m}\u001b[39;00m\u001b[38;5;124m'\u001b[39m)\n\u001b[1;32m    201\u001b[0m     \u001b[38;5;28mself\u001b[39m(\u001b[38;5;124mf\u001b[39m\u001b[38;5;124m'\u001b[39m\u001b[38;5;124mafter_\u001b[39m\u001b[38;5;132;01m{\u001b[39;00mevent_type\u001b[38;5;132;01m}\u001b[39;00m\u001b[38;5;124m'\u001b[39m);  final()\n",
      "File \u001b[0;32m/opt/venv/default/lib/python3.8/site-packages/fastai/learner.py:247\u001b[0m, in \u001b[0;36mLearner._do_epoch\u001b[0;34m(self)\u001b[0m\n\u001b[1;32m    246\u001b[0m \u001b[38;5;28;01mdef\u001b[39;00m \u001b[38;5;21m_do_epoch\u001b[39m(\u001b[38;5;28mself\u001b[39m):\n\u001b[0;32m--> 247\u001b[0m     \u001b[38;5;28;43mself\u001b[39;49m\u001b[38;5;241;43m.\u001b[39;49m\u001b[43m_do_epoch_train\u001b[49m\u001b[43m(\u001b[49m\u001b[43m)\u001b[49m\n\u001b[1;32m    248\u001b[0m     \u001b[38;5;28mself\u001b[39m\u001b[38;5;241m.\u001b[39m_do_epoch_validate()\n",
      "File \u001b[0;32m/opt/venv/default/lib/python3.8/site-packages/fastai/learner.py:239\u001b[0m, in \u001b[0;36mLearner._do_epoch_train\u001b[0;34m(self)\u001b[0m\n\u001b[1;32m    237\u001b[0m \u001b[38;5;28;01mdef\u001b[39;00m \u001b[38;5;21m_do_epoch_train\u001b[39m(\u001b[38;5;28mself\u001b[39m):\n\u001b[1;32m    238\u001b[0m     \u001b[38;5;28mself\u001b[39m\u001b[38;5;241m.\u001b[39mdl \u001b[38;5;241m=\u001b[39m \u001b[38;5;28mself\u001b[39m\u001b[38;5;241m.\u001b[39mdls\u001b[38;5;241m.\u001b[39mtrain\n\u001b[0;32m--> 239\u001b[0m     \u001b[38;5;28;43mself\u001b[39;49m\u001b[38;5;241;43m.\u001b[39;49m\u001b[43m_with_events\u001b[49m\u001b[43m(\u001b[49m\u001b[38;5;28;43mself\u001b[39;49m\u001b[38;5;241;43m.\u001b[39;49m\u001b[43mall_batches\u001b[49m\u001b[43m,\u001b[49m\u001b[43m \u001b[49m\u001b[38;5;124;43m'\u001b[39;49m\u001b[38;5;124;43mtrain\u001b[39;49m\u001b[38;5;124;43m'\u001b[39;49m\u001b[43m,\u001b[49m\u001b[43m \u001b[49m\u001b[43mCancelTrainException\u001b[49m\u001b[43m)\u001b[49m\n",
      "File \u001b[0;32m/opt/venv/default/lib/python3.8/site-packages/fastai/learner.py:199\u001b[0m, in \u001b[0;36mLearner._with_events\u001b[0;34m(self, f, event_type, ex, final)\u001b[0m\n\u001b[1;32m    198\u001b[0m \u001b[38;5;28;01mdef\u001b[39;00m \u001b[38;5;21m_with_events\u001b[39m(\u001b[38;5;28mself\u001b[39m, f, event_type, ex, final\u001b[38;5;241m=\u001b[39mnoop):\n\u001b[0;32m--> 199\u001b[0m     \u001b[38;5;28;01mtry\u001b[39;00m: \u001b[38;5;28mself\u001b[39m(\u001b[38;5;124mf\u001b[39m\u001b[38;5;124m'\u001b[39m\u001b[38;5;124mbefore_\u001b[39m\u001b[38;5;132;01m{\u001b[39;00mevent_type\u001b[38;5;132;01m}\u001b[39;00m\u001b[38;5;124m'\u001b[39m);  \u001b[43mf\u001b[49m\u001b[43m(\u001b[49m\u001b[43m)\u001b[49m\n\u001b[1;32m    200\u001b[0m     \u001b[38;5;28;01mexcept\u001b[39;00m ex: \u001b[38;5;28mself\u001b[39m(\u001b[38;5;124mf\u001b[39m\u001b[38;5;124m'\u001b[39m\u001b[38;5;124mafter_cancel_\u001b[39m\u001b[38;5;132;01m{\u001b[39;00mevent_type\u001b[38;5;132;01m}\u001b[39;00m\u001b[38;5;124m'\u001b[39m)\n\u001b[1;32m    201\u001b[0m     \u001b[38;5;28mself\u001b[39m(\u001b[38;5;124mf\u001b[39m\u001b[38;5;124m'\u001b[39m\u001b[38;5;124mafter_\u001b[39m\u001b[38;5;132;01m{\u001b[39;00mevent_type\u001b[38;5;132;01m}\u001b[39;00m\u001b[38;5;124m'\u001b[39m);  final()\n",
      "File \u001b[0;32m/opt/venv/default/lib/python3.8/site-packages/fastai/learner.py:205\u001b[0m, in \u001b[0;36mLearner.all_batches\u001b[0;34m(self)\u001b[0m\n\u001b[1;32m    203\u001b[0m \u001b[38;5;28;01mdef\u001b[39;00m \u001b[38;5;21mall_batches\u001b[39m(\u001b[38;5;28mself\u001b[39m):\n\u001b[1;32m    204\u001b[0m     \u001b[38;5;28mself\u001b[39m\u001b[38;5;241m.\u001b[39mn_iter \u001b[38;5;241m=\u001b[39m \u001b[38;5;28mlen\u001b[39m(\u001b[38;5;28mself\u001b[39m\u001b[38;5;241m.\u001b[39mdl)\n\u001b[0;32m--> 205\u001b[0m     \u001b[38;5;28;01mfor\u001b[39;00m o \u001b[38;5;129;01min\u001b[39;00m \u001b[38;5;28menumerate\u001b[39m(\u001b[38;5;28mself\u001b[39m\u001b[38;5;241m.\u001b[39mdl): \u001b[38;5;28mself\u001b[39m\u001b[38;5;241m.\u001b[39mone_batch(\u001b[38;5;241m*\u001b[39mo)\n",
      "File \u001b[0;32m/opt/venv/default/lib/python3.8/site-packages/fastai/data/load.py:127\u001b[0m, in \u001b[0;36mDataLoader.__iter__\u001b[0;34m(self)\u001b[0m\n\u001b[1;32m    125\u001b[0m \u001b[38;5;28mself\u001b[39m\u001b[38;5;241m.\u001b[39mbefore_iter()\n\u001b[1;32m    126\u001b[0m \u001b[38;5;28mself\u001b[39m\u001b[38;5;241m.\u001b[39m__idxs\u001b[38;5;241m=\u001b[39m\u001b[38;5;28mself\u001b[39m\u001b[38;5;241m.\u001b[39mget_idxs() \u001b[38;5;66;03m# called in context of main process (not workers/subprocesses)\u001b[39;00m\n\u001b[0;32m--> 127\u001b[0m \u001b[38;5;28;01mfor\u001b[39;00m b \u001b[38;5;129;01min\u001b[39;00m _loaders[\u001b[38;5;28mself\u001b[39m\u001b[38;5;241m.\u001b[39mfake_l\u001b[38;5;241m.\u001b[39mnum_workers\u001b[38;5;241m==\u001b[39m\u001b[38;5;241m0\u001b[39m](\u001b[38;5;28mself\u001b[39m\u001b[38;5;241m.\u001b[39mfake_l):\n\u001b[1;32m    128\u001b[0m     \u001b[38;5;66;03m# pin_memory causes tuples to be converted to lists, so convert them back to tuples\u001b[39;00m\n\u001b[1;32m    129\u001b[0m     \u001b[38;5;28;01mif\u001b[39;00m \u001b[38;5;28mself\u001b[39m\u001b[38;5;241m.\u001b[39mpin_memory \u001b[38;5;129;01mand\u001b[39;00m \u001b[38;5;28mtype\u001b[39m(b) \u001b[38;5;241m==\u001b[39m \u001b[38;5;28mlist\u001b[39m: b \u001b[38;5;241m=\u001b[39m \u001b[38;5;28mtuple\u001b[39m(b)\n\u001b[1;32m    130\u001b[0m     \u001b[38;5;28;01mif\u001b[39;00m \u001b[38;5;28mself\u001b[39m\u001b[38;5;241m.\u001b[39mdevice \u001b[38;5;129;01mis\u001b[39;00m \u001b[38;5;129;01mnot\u001b[39;00m \u001b[38;5;28;01mNone\u001b[39;00m: b \u001b[38;5;241m=\u001b[39m to_device(b, \u001b[38;5;28mself\u001b[39m\u001b[38;5;241m.\u001b[39mdevice)\n",
      "File \u001b[0;32m/opt/venv/default/lib/python3.8/site-packages/torch/utils/data/dataloader.py:530\u001b[0m, in \u001b[0;36m_BaseDataLoaderIter.__next__\u001b[0;34m(self)\u001b[0m\n\u001b[1;32m    528\u001b[0m \u001b[38;5;28;01mif\u001b[39;00m \u001b[38;5;28mself\u001b[39m\u001b[38;5;241m.\u001b[39m_sampler_iter \u001b[38;5;129;01mis\u001b[39;00m \u001b[38;5;28;01mNone\u001b[39;00m:\n\u001b[1;32m    529\u001b[0m     \u001b[38;5;28mself\u001b[39m\u001b[38;5;241m.\u001b[39m_reset()\n\u001b[0;32m--> 530\u001b[0m data \u001b[38;5;241m=\u001b[39m \u001b[38;5;28;43mself\u001b[39;49m\u001b[38;5;241;43m.\u001b[39;49m\u001b[43m_next_data\u001b[49m\u001b[43m(\u001b[49m\u001b[43m)\u001b[49m\n\u001b[1;32m    531\u001b[0m \u001b[38;5;28mself\u001b[39m\u001b[38;5;241m.\u001b[39m_num_yielded \u001b[38;5;241m+\u001b[39m\u001b[38;5;241m=\u001b[39m \u001b[38;5;241m1\u001b[39m\n\u001b[1;32m    532\u001b[0m \u001b[38;5;28;01mif\u001b[39;00m \u001b[38;5;28mself\u001b[39m\u001b[38;5;241m.\u001b[39m_dataset_kind \u001b[38;5;241m==\u001b[39m _DatasetKind\u001b[38;5;241m.\u001b[39mIterable \u001b[38;5;129;01mand\u001b[39;00m \\\n\u001b[1;32m    533\u001b[0m         \u001b[38;5;28mself\u001b[39m\u001b[38;5;241m.\u001b[39m_IterableDataset_len_called \u001b[38;5;129;01mis\u001b[39;00m \u001b[38;5;129;01mnot\u001b[39;00m \u001b[38;5;28;01mNone\u001b[39;00m \u001b[38;5;129;01mand\u001b[39;00m \\\n\u001b[1;32m    534\u001b[0m         \u001b[38;5;28mself\u001b[39m\u001b[38;5;241m.\u001b[39m_num_yielded \u001b[38;5;241m>\u001b[39m \u001b[38;5;28mself\u001b[39m\u001b[38;5;241m.\u001b[39m_IterableDataset_len_called:\n",
      "File \u001b[0;32m/opt/venv/default/lib/python3.8/site-packages/torch/utils/data/dataloader.py:1207\u001b[0m, in \u001b[0;36m_MultiProcessingDataLoaderIter._next_data\u001b[0;34m(self)\u001b[0m\n\u001b[1;32m   1204\u001b[0m     \u001b[38;5;28;01mreturn\u001b[39;00m \u001b[38;5;28mself\u001b[39m\u001b[38;5;241m.\u001b[39m_process_data(data)\n\u001b[1;32m   1206\u001b[0m \u001b[38;5;28;01massert\u001b[39;00m \u001b[38;5;129;01mnot\u001b[39;00m \u001b[38;5;28mself\u001b[39m\u001b[38;5;241m.\u001b[39m_shutdown \u001b[38;5;129;01mand\u001b[39;00m \u001b[38;5;28mself\u001b[39m\u001b[38;5;241m.\u001b[39m_tasks_outstanding \u001b[38;5;241m>\u001b[39m \u001b[38;5;241m0\u001b[39m\n\u001b[0;32m-> 1207\u001b[0m idx, data \u001b[38;5;241m=\u001b[39m \u001b[38;5;28;43mself\u001b[39;49m\u001b[38;5;241;43m.\u001b[39;49m\u001b[43m_get_data\u001b[49m\u001b[43m(\u001b[49m\u001b[43m)\u001b[49m\n\u001b[1;32m   1208\u001b[0m \u001b[38;5;28mself\u001b[39m\u001b[38;5;241m.\u001b[39m_tasks_outstanding \u001b[38;5;241m-\u001b[39m\u001b[38;5;241m=\u001b[39m \u001b[38;5;241m1\u001b[39m\n\u001b[1;32m   1209\u001b[0m \u001b[38;5;28;01mif\u001b[39;00m \u001b[38;5;28mself\u001b[39m\u001b[38;5;241m.\u001b[39m_dataset_kind \u001b[38;5;241m==\u001b[39m _DatasetKind\u001b[38;5;241m.\u001b[39mIterable:\n\u001b[1;32m   1210\u001b[0m     \u001b[38;5;66;03m# Check for _IterableDatasetStopIteration\u001b[39;00m\n",
      "File \u001b[0;32m/opt/venv/default/lib/python3.8/site-packages/torch/utils/data/dataloader.py:1173\u001b[0m, in \u001b[0;36m_MultiProcessingDataLoaderIter._get_data\u001b[0;34m(self)\u001b[0m\n\u001b[1;32m   1169\u001b[0m     \u001b[38;5;66;03m# In this case, `self._data_queue` is a `queue.Queue`,. But we don't\u001b[39;00m\n\u001b[1;32m   1170\u001b[0m     \u001b[38;5;66;03m# need to call `.task_done()` because we don't use `.join()`.\u001b[39;00m\n\u001b[1;32m   1171\u001b[0m \u001b[38;5;28;01melse\u001b[39;00m:\n\u001b[1;32m   1172\u001b[0m     \u001b[38;5;28;01mwhile\u001b[39;00m \u001b[38;5;28;01mTrue\u001b[39;00m:\n\u001b[0;32m-> 1173\u001b[0m         success, data \u001b[38;5;241m=\u001b[39m \u001b[38;5;28;43mself\u001b[39;49m\u001b[38;5;241;43m.\u001b[39;49m\u001b[43m_try_get_data\u001b[49m\u001b[43m(\u001b[49m\u001b[43m)\u001b[49m\n\u001b[1;32m   1174\u001b[0m         \u001b[38;5;28;01mif\u001b[39;00m success:\n\u001b[1;32m   1175\u001b[0m             \u001b[38;5;28;01mreturn\u001b[39;00m data\n",
      "File \u001b[0;32m/opt/venv/default/lib/python3.8/site-packages/torch/utils/data/dataloader.py:1011\u001b[0m, in \u001b[0;36m_MultiProcessingDataLoaderIter._try_get_data\u001b[0;34m(self, timeout)\u001b[0m\n\u001b[1;32m    998\u001b[0m \u001b[38;5;28;01mdef\u001b[39;00m \u001b[38;5;21m_try_get_data\u001b[39m(\u001b[38;5;28mself\u001b[39m, timeout\u001b[38;5;241m=\u001b[39m_utils\u001b[38;5;241m.\u001b[39mMP_STATUS_CHECK_INTERVAL):\n\u001b[1;32m    999\u001b[0m     \u001b[38;5;66;03m# Tries to fetch data from `self._data_queue` once for a given timeout.\u001b[39;00m\n\u001b[1;32m   1000\u001b[0m     \u001b[38;5;66;03m# This can also be used as inner loop of fetching without timeout, with\u001b[39;00m\n\u001b[0;32m   (...)\u001b[0m\n\u001b[1;32m   1008\u001b[0m     \u001b[38;5;66;03m# Returns a 2-tuple:\u001b[39;00m\n\u001b[1;32m   1009\u001b[0m     \u001b[38;5;66;03m#   (bool: whether successfully get data, any: data if successful else None)\u001b[39;00m\n\u001b[1;32m   1010\u001b[0m     \u001b[38;5;28;01mtry\u001b[39;00m:\n\u001b[0;32m-> 1011\u001b[0m         data \u001b[38;5;241m=\u001b[39m \u001b[38;5;28;43mself\u001b[39;49m\u001b[38;5;241;43m.\u001b[39;49m\u001b[43m_data_queue\u001b[49m\u001b[38;5;241;43m.\u001b[39;49m\u001b[43mget\u001b[49m\u001b[43m(\u001b[49m\u001b[43mtimeout\u001b[49m\u001b[38;5;241;43m=\u001b[39;49m\u001b[43mtimeout\u001b[49m\u001b[43m)\u001b[49m\n\u001b[1;32m   1012\u001b[0m         \u001b[38;5;28;01mreturn\u001b[39;00m (\u001b[38;5;28;01mTrue\u001b[39;00m, data)\n\u001b[1;32m   1013\u001b[0m     \u001b[38;5;28;01mexcept\u001b[39;00m \u001b[38;5;167;01mException\u001b[39;00m \u001b[38;5;28;01mas\u001b[39;00m e:\n\u001b[1;32m   1014\u001b[0m         \u001b[38;5;66;03m# At timeout and error, we manually check whether any worker has\u001b[39;00m\n\u001b[1;32m   1015\u001b[0m         \u001b[38;5;66;03m# failed. Note that this is the only mechanism for Windows to detect\u001b[39;00m\n\u001b[1;32m   1016\u001b[0m         \u001b[38;5;66;03m# worker failures.\u001b[39;00m\n",
      "File \u001b[0;32m~/.asdf/installs/python/3.8.11/lib/python3.8/multiprocessing/queues.py:107\u001b[0m, in \u001b[0;36mQueue.get\u001b[0;34m(self, block, timeout)\u001b[0m\n\u001b[1;32m    105\u001b[0m \u001b[38;5;28;01mif\u001b[39;00m block:\n\u001b[1;32m    106\u001b[0m     timeout \u001b[38;5;241m=\u001b[39m deadline \u001b[38;5;241m-\u001b[39m time\u001b[38;5;241m.\u001b[39mmonotonic()\n\u001b[0;32m--> 107\u001b[0m     \u001b[38;5;28;01mif\u001b[39;00m \u001b[38;5;129;01mnot\u001b[39;00m \u001b[38;5;28;43mself\u001b[39;49m\u001b[38;5;241;43m.\u001b[39;49m\u001b[43m_poll\u001b[49m\u001b[43m(\u001b[49m\u001b[43mtimeout\u001b[49m\u001b[43m)\u001b[49m:\n\u001b[1;32m    108\u001b[0m         \u001b[38;5;28;01mraise\u001b[39;00m Empty\n\u001b[1;32m    109\u001b[0m \u001b[38;5;28;01melif\u001b[39;00m \u001b[38;5;129;01mnot\u001b[39;00m \u001b[38;5;28mself\u001b[39m\u001b[38;5;241m.\u001b[39m_poll():\n",
      "File \u001b[0;32m~/.asdf/installs/python/3.8.11/lib/python3.8/multiprocessing/connection.py:257\u001b[0m, in \u001b[0;36m_ConnectionBase.poll\u001b[0;34m(self, timeout)\u001b[0m\n\u001b[1;32m    255\u001b[0m \u001b[38;5;28mself\u001b[39m\u001b[38;5;241m.\u001b[39m_check_closed()\n\u001b[1;32m    256\u001b[0m \u001b[38;5;28mself\u001b[39m\u001b[38;5;241m.\u001b[39m_check_readable()\n\u001b[0;32m--> 257\u001b[0m \u001b[38;5;28;01mreturn\u001b[39;00m \u001b[38;5;28;43mself\u001b[39;49m\u001b[38;5;241;43m.\u001b[39;49m\u001b[43m_poll\u001b[49m\u001b[43m(\u001b[49m\u001b[43mtimeout\u001b[49m\u001b[43m)\u001b[49m\n",
      "File \u001b[0;32m~/.asdf/installs/python/3.8.11/lib/python3.8/multiprocessing/connection.py:424\u001b[0m, in \u001b[0;36mConnection._poll\u001b[0;34m(self, timeout)\u001b[0m\n\u001b[1;32m    423\u001b[0m \u001b[38;5;28;01mdef\u001b[39;00m \u001b[38;5;21m_poll\u001b[39m(\u001b[38;5;28mself\u001b[39m, timeout):\n\u001b[0;32m--> 424\u001b[0m     r \u001b[38;5;241m=\u001b[39m \u001b[43mwait\u001b[49m\u001b[43m(\u001b[49m\u001b[43m[\u001b[49m\u001b[38;5;28;43mself\u001b[39;49m\u001b[43m]\u001b[49m\u001b[43m,\u001b[49m\u001b[43m \u001b[49m\u001b[43mtimeout\u001b[49m\u001b[43m)\u001b[49m\n\u001b[1;32m    425\u001b[0m     \u001b[38;5;28;01mreturn\u001b[39;00m \u001b[38;5;28mbool\u001b[39m(r)\n",
      "File \u001b[0;32m~/.asdf/installs/python/3.8.11/lib/python3.8/multiprocessing/connection.py:931\u001b[0m, in \u001b[0;36mwait\u001b[0;34m(object_list, timeout)\u001b[0m\n\u001b[1;32m    928\u001b[0m     deadline \u001b[38;5;241m=\u001b[39m time\u001b[38;5;241m.\u001b[39mmonotonic() \u001b[38;5;241m+\u001b[39m timeout\n\u001b[1;32m    930\u001b[0m \u001b[38;5;28;01mwhile\u001b[39;00m \u001b[38;5;28;01mTrue\u001b[39;00m:\n\u001b[0;32m--> 931\u001b[0m     ready \u001b[38;5;241m=\u001b[39m \u001b[43mselector\u001b[49m\u001b[38;5;241;43m.\u001b[39;49m\u001b[43mselect\u001b[49m\u001b[43m(\u001b[49m\u001b[43mtimeout\u001b[49m\u001b[43m)\u001b[49m\n\u001b[1;32m    932\u001b[0m     \u001b[38;5;28;01mif\u001b[39;00m ready:\n\u001b[1;32m    933\u001b[0m         \u001b[38;5;28;01mreturn\u001b[39;00m [key\u001b[38;5;241m.\u001b[39mfileobj \u001b[38;5;28;01mfor\u001b[39;00m (key, events) \u001b[38;5;129;01min\u001b[39;00m ready]\n",
      "File \u001b[0;32m~/.asdf/installs/python/3.8.11/lib/python3.8/selectors.py:415\u001b[0m, in \u001b[0;36m_PollLikeSelector.select\u001b[0;34m(self, timeout)\u001b[0m\n\u001b[1;32m    413\u001b[0m ready \u001b[38;5;241m=\u001b[39m []\n\u001b[1;32m    414\u001b[0m \u001b[38;5;28;01mtry\u001b[39;00m:\n\u001b[0;32m--> 415\u001b[0m     fd_event_list \u001b[38;5;241m=\u001b[39m \u001b[38;5;28;43mself\u001b[39;49m\u001b[38;5;241;43m.\u001b[39;49m\u001b[43m_selector\u001b[49m\u001b[38;5;241;43m.\u001b[39;49m\u001b[43mpoll\u001b[49m\u001b[43m(\u001b[49m\u001b[43mtimeout\u001b[49m\u001b[43m)\u001b[49m\n\u001b[1;32m    416\u001b[0m \u001b[38;5;28;01mexcept\u001b[39;00m \u001b[38;5;167;01mInterruptedError\u001b[39;00m:\n\u001b[1;32m    417\u001b[0m     \u001b[38;5;28;01mreturn\u001b[39;00m ready\n",
      "\u001b[0;31mKeyboardInterrupt\u001b[0m: "
     ]
    }
   ],
   "source": [
    "torch.cuda.empty_cache()\n",
    "full_dataset = P.dataset(tile_px=256, tile_um=256)\n",
    "# Split the dataset using three-fold, site-preserved cross-validation\n",
    "# splits = full_dataset.kfold_split(\n",
    "#     k=3,\n",
    "#     labels='stage',\n",
    "#     preserved_site=False, \n",
    "#     from_wsi=True\n",
    "# )\n",
    "\n",
    "# # Train on each cross-fold\n",
    "# for train, val in splits:\n",
    "#     P.train_mil(\n",
    "#         config=config,\n",
    "#         outcomes='stage',\n",
    "#         train_dataset=train,\n",
    "#         val_dataset=val,\n",
    "#         bags='datasets/brca-psj-path/contest-phase-2/clam-preprocessing-train/resnet50-features/pt_files/'\n",
    "#     )\n",
    "\n",
    "#split data into train and validation set\n",
    "train_dataset = full_dataset.filter({\"dataset\": [\"train\"]})\n",
    "val_dataset = full_dataset.filter({\"dataset\": [\"eval\"]})\n",
    "\n",
    "#run trainer\n",
    "P.train_mil(\n",
    "    config=config,\n",
    "    outcomes='stage',\n",
    "    train_dataset=train_dataset,\n",
    "    val_dataset=val_dataset,\n",
    "    from_wsi=True,\n",
    "    starting_epoch=2,\n",
    "    multi_gpu=True,\n",
    "    save_model=True,\n",
    "    save_checkpoint=True,\n",
    "    validation_batch_size= 8,\n",
    "    bags='datasets/brca-psj-path/contest-phase-2/clam-preprocessing-train/resnet50-features/pt_files'\n",
    "    )"
   ]
  },
  {
   "cell_type": "code",
   "execution_count": 15,
   "id": "435c441b-2a42-4f81-9669-21a722f90034",
   "metadata": {},
   "outputs": [],
   "source": [
    "torch.cuda.empty_cache()"
   ]
  }
 ],
 "metadata": {
  "kernelspec": {
   "display_name": "Python 3 (ipykernel)",
   "language": "python",
   "name": "python3"
  },
  "language_info": {
   "codemirror_mode": {
    "name": "ipython",
    "version": 3
   },
   "file_extension": ".py",
   "mimetype": "text/x-python",
   "name": "python",
   "nbconvert_exporter": "python",
   "pygments_lexer": "ipython3",
   "version": "3.10.9"
  }
 },
 "nbformat": 4,
 "nbformat_minor": 5
}
