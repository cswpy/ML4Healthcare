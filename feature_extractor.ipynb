{
 "cells": [
  {
   "cell_type": "code",
   "execution_count": null,
   "id": "ff2a286e-c26a-44b0-a9f3-4b2429d9f5d2",
   "metadata": {},
   "outputs": [],
   "source": [
    "import os\n",
    "from pathlib import Path\n",
    "\n",
    "import numpy as np\n",
    "import pandas as pd\n",
    "\n",
    "from matplotlib import pyplot as plt\n",
    "from PIL import Image\n",
    "\n",
    "import torch\n",
    "from torch import nn\n",
    "from torch.nn import functional as F\n",
    "from torch.utils.data import DataLoader, Dataset\n",
    "from torchmetrics import Accuracy\n",
    "from torchvision import transforms\n",
    "from torchvision.models import resnet18\n",
    "from torchvision.models import resnet152\n",
    "import pytorch_lightning as pl\n",
    "import sys\n",
    "from tqdm import tqdm\n",
    "torch.cuda.init()\n",
    "assert torch.cuda.is_initialized()\n",
    "print(torch.cuda.get_device_properties(0))"
   ]
  },
  {
   "cell_type": "code",
   "execution_count": null,
   "id": "2dfc38a8-ef79-465e-aef6-f195e9a8bb00",
   "metadata": {},
   "outputs": [],
   "source": [
    "!{sys.executable} -m pip install slideflow[tf] cucim cupy-cuda11x\n",
    "#!{sys.executable} export SF_SLIDE_BACKEND=libvips\n",
    "!{sys.executable} -m pip install fastai\n",
    "!{sys.executable} -m pip install nystrom_attention\n",
    "!{sys.executable} -m pip install torch==1.11.0 torchvision==0.12.0 torchaudio==0.11.0"
   ]
  },
  {
   "cell_type": "code",
   "execution_count": 11,
   "id": "a52eb3f2-1d25-49c2-8f1c-5aedd3a159a3",
   "metadata": {},
   "outputs": [],
   "source": [
    "slide_biop_df = pd.read_csv(\"/home/ngsci/datasets/brca-psj-path/contest-phase-2/slide-manifest-train.csv\")\n",
    "outcomes_df = pd.read_csv(\"/home/ngsci/datasets/brca-psj-path/contest-phase-2/csv-train/outcomes.csv\")\n",
    "slide_stage_df = slide_biop_df.merge(outcomes_df, on=\"biopsy_id\")\n",
    "\n",
    "def stage_to_int(stage):\n",
    "    if stage == \"0\":\n",
    "        return \"0\"\n",
    "    elif stage == \"IA\" or stage == \"IB\":\n",
    "        return \"1\"\n",
    "    elif stage == \"IIA\" or stage == \"IIB\":\n",
    "        return \"2\"\n",
    "    elif stage == \"IIIA\" or stage == \"IIIB\" or stage == \"IIIC\":\n",
    "        return \"3\"\n",
    "    elif stage == \"IV\":\n",
    "        return \"4\"\n",
    "    else:\n",
    "        return \"\"\n",
    "\n",
    "slide_stage_df[\"stage\"] = slide_stage_df[\"stage\"].apply(stage_to_int)\n",
    "slide_stage_df[\"dataset\"]=\"train\"\n",
    "change=slide_stage_df.sample(frac = 0.3).index\n",
    "slide_stage_df.loc[change,'dataset'] = \"eval\"\n",
    "\n",
    "# subset columns, drop nans, reset index\n",
    "labels_df = (\n",
    "    slide_stage_df[[\"slide_id\", \"biopsy_id\", \"stage\",\"dataset\"]]\n",
    "    .copy()\n",
    "    .dropna(how=\"any\")\n",
    "    .reset_index(drop=True)\n",
    ")\n",
    "\n",
    "labels_df[\"stage\"] = labels_df[\"stage\"]\n",
    "labels_df.rename(columns = {'slide_id':'patient'}, inplace = True)\n",
    "labels_df.head(5)\n",
    "labels_df.to_csv('annotations.csv',index=False)"
   ]
  },
  {
   "cell_type": "code",
   "execution_count": null,
   "id": "19b13e30-c396-4371-802e-b7e9890c45cf",
   "metadata": {},
   "outputs": [],
   "source": [
    "import slideflow as sf\n",
    "from slideflow.model import build_feature_extractor\n",
    "from slideflow.model import list_extractors\n",
    "list_extractors()"
   ]
  },
  {
   "cell_type": "code",
   "execution_count": null,
   "id": "3375b339-f679-458f-87a3-79a5b1e68920",
   "metadata": {},
   "outputs": [],
   "source": [
    "# Load a project and dataset.\n",
    "'''\n",
    "P = sf.Project(\n",
    "    root='proj',\n",
    "    annotations='annotations.csv',\n",
    "    create=True\n",
    ")\n",
    "'''\n",
    "\n",
    "'''\n",
    "P.add_source(\n",
    "  name=\"my_datasets\",\n",
    "  slides=\"/home/ngsci/datasets/brca-psj-path/ndpi/\",\n",
    "  tiles='/home/ngsci/datasets/brca-psj-path/contest-phase-2/clam-preprocessing-train/patches/'\n",
    ")\n",
    "'''\n",
    "\n",
    "P = sf.load_project('proj')"
   ]
  },
  {
   "cell_type": "code",
   "execution_count": null,
   "id": "61ba5f33-b64c-40a8-9515-26377176ac9e",
   "metadata": {},
   "outputs": [],
   "source": [
    "full_dataset = P.dataset(tile_px=256, tile_um='43x')\n",
    "full_dataset.extract_tiles(save_tfrecords=True, enable_downsample=False, roi_method='ignore', skip_extracted=True)"
   ]
  }
 ],
 "metadata": {
  "kernelspec": {
   "display_name": "Python 3 (ipykernel)",
   "language": "python",
   "name": "python3"
  },
  "language_info": {
   "codemirror_mode": {
    "name": "ipython",
    "version": 3
   },
   "file_extension": ".py",
   "mimetype": "text/x-python",
   "name": "python",
   "nbconvert_exporter": "python",
   "pygments_lexer": "ipython3",
   "version": "3.10.9"
  }
 },
 "nbformat": 4,
 "nbformat_minor": 5
}
